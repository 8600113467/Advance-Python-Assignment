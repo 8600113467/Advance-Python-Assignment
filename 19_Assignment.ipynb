{
 "cells": [
  {
   "cell_type": "markdown",
   "id": "54510044-7726-45ed-bd2c-0059e62950cd",
   "metadata": {},
   "source": [
    "## Advance Python Assignment No.19"
   ]
  },
  {
   "cell_type": "raw",
   "id": "d59ef7b7-bc68-4a9b-be11-de13cd008de7",
   "metadata": {},
   "source": [
    "Q1. Define the relationship between a class and its instances. Is it a one-to-one or a one-to-many partnership, for example?\n",
    "Q2. What kind of data is held only in an instance?\n",
    "Q3. What kind of knowledge is stored in a class?\n",
    "Q4. What exactly is a method, and how is it different from a regular function?\n",
    "Q5. Is inheritance supported in Python, and if so, what is the syntax?\n",
    "Q6. How much encapsulation (making instance or class variables private) does Python support?\n",
    "Q7. How do you distinguish between a class variable and an instance variable?\n",
    "Q8. When, if ever, can self be included in a class's method definitions?\n",
    "Q9. What is the difference between the _ _add_ _ and the _ _radd_ _ methods?\n",
    "Q10. When is it necessary to use a reflection method? When do you not need it, even though you support the operation in question?\n",
    "Q11. What is the _ _iadd_ _ method called?\n",
    "Q12. Is the _ _init_ _ method inherited by subclasses? What do you do if you need to customize its behavior within a subclass?"
   ]
  },
  {
   "cell_type": "raw",
   "id": "a8826098-eac3-4772-9d4f-53b4e32782fb",
   "metadata": {},
   "source": [
    "Q1. Define the relationship between a class and its instances. Is it a one-to-one or a one-to-many partnership, for example?"
   ]
  },
  {
   "cell_type": "markdown",
   "id": "99c48805-4e2d-4164-a5a0-4d783fca84f3",
   "metadata": {
    "tags": []
   },
   "source": [
    "Ans: Relationship between a class and its instances is a one to many partnership."
   ]
  },
  {
   "cell_type": "raw",
   "id": "89d82450-6d45-437c-b5f5-557fc0f38c45",
   "metadata": {},
   "source": [
    "Q2. What kind of data is held only in an instance?"
   ]
  },
  {
   "cell_type": "markdown",
   "id": "91308575-b03f-4be3-b356-c56c1310b45f",
   "metadata": {},
   "source": [
    "Ans: Instance objects contains the Instance variables which are specific to that specific Instance object."
   ]
  },
  {
   "cell_type": "raw",
   "id": "668bb43d-87d4-4830-b51f-f0a134975496",
   "metadata": {},
   "source": [
    "Q3. What kind of knowledge is stored in a class?"
   ]
  },
  {
   "cell_type": "markdown",
   "id": "3134d4c3-9b67-4c9a-b719-e19c354fa401",
   "metadata": {},
   "source": [
    "Ans: Class creates a user-defined data structure, which holds its own data members and member functions, which can be accessed and used by creating an instance of that class. A class is like a blueprint for an object.\n"
   ]
  },
  {
   "cell_type": "raw",
   "id": "ae4bb3fb-8c61-4710-9db5-0e4bbc967b42",
   "metadata": {},
   "source": [
    "Q4. What exactly is a method, and how is it different from a regular function?\n"
   ]
  },
  {
   "cell_type": "markdown",
   "id": "b786cc44-9f81-41b5-a602-0146d5824256",
   "metadata": {},
   "source": [
    "Ans: The methods with a class can be used to access the insatnce variables of its instance. So,the object's state can be modified by its method. Function can't access the attributes of an instance of a class or can't modify the state of the object."
   ]
  },
  {
   "cell_type": "raw",
   "id": "16960325-7814-4e83-924d-3bb953baeeec",
   "metadata": {},
   "source": [
    "Q5. Is inheritance supported in Python, and if so, what is the syntax?\n"
   ]
  },
  {
   "cell_type": "markdown",
   "id": "1e5b98cc-e84d-4c10-863f-14d7f5b20e2f",
   "metadata": {},
   "source": [
    "Ans: Yes,Python supports inheritance. The Types of Inheritence Supported by Python are:\n",
    "\n",
    "Simple Inheritence,\n",
    "Multiple Inheritence,\n",
    "Multilevel Inheritence,\n",
    "Hybrid Inheritence,\n",
    "Hierracial Inheritence.\n"
   ]
  },
  {
   "cell_type": "code",
   "execution_count": 1,
   "id": "999ca1c1-ca02-44e8-952f-051152eb5d5f",
   "metadata": {},
   "outputs": [],
   "source": [
    "class Person:\n",
    "    def __init__(self, fname, lname):\n",
    "        self.first_name = fname\n",
    "        self.last_name = lname\n",
    "class Student(Person):\n",
    "    pass"
   ]
  },
  {
   "cell_type": "raw",
   "id": "d85c8071-e736-4248-8ab9-93ba7a83dc23",
   "metadata": {},
   "source": [
    "Q6. How much encapsulation (making instance or class variables private) does Python support?"
   ]
  },
  {
   "cell_type": "markdown",
   "id": "5203613c-e2eb-4aee-afe3-5770a236e782",
   "metadata": {},
   "source": [
    "Ans: Encapsulation describes the idea of wrapping data and the methods that work on data within one unit. This puts restrictions on accessing variables and methods directly and can prevent the accidental modification of data. To prevent accidental change, an objects variable can only be changed by an objects method."
   ]
  },
  {
   "cell_type": "raw",
   "id": "5039ec1e-501e-4759-a8f4-ad4dcdc7d8b4",
   "metadata": {},
   "source": [
    "Q7. How do you distinguish between a class variable and an instance variable?\n"
   ]
  },
  {
   "cell_type": "markdown",
   "id": "fcb57f22-3543-4413-ad37-9183748ad38b",
   "metadata": {},
   "source": [
    "Ans: The Class Attribute is available to all the instance objects of that class. whereas Instance Attributes are accessible only to the object or Instance of that class.\n",
    "\n",
    "A single copy of Class attributes is maintained by pvm at the class level. Whereas difference copies of instance attributes are maintained by pvm at objects/instance level."
   ]
  },
  {
   "cell_type": "raw",
   "id": "800c66b1-42a4-4761-9004-66a62b3bd199",
   "metadata": {},
   "source": [
    "Q8. When, if ever, can self be included in a class's method definitions?\n"
   ]
  },
  {
   "cell_type": "markdown",
   "id": "79f96cc5-a323-4149-a085-db4ddc70f9d4",
   "metadata": {},
   "source": [
    "Ans: Yes, self can included in class method definations to access the instance variables inside class methods.\n"
   ]
  },
  {
   "cell_type": "raw",
   "id": "aa537b09-fc83-473f-92e4-47c795486414",
   "metadata": {},
   "source": [
    "Q9. What is the difference between the __add__ and the __radd__ methods ?"
   ]
  },
  {
   "cell_type": "markdown",
   "id": "be6445a9-7728-4f0d-b796-2a2fa6ab672a",
   "metadata": {},
   "source": [
    "Ans: Entering __radd__ Python will first try __add__(), and if that returns Not Implemented Python will check if the right-hand operand implements __radd__, and if it does, it will call __radd__() rather than raising a TypeError"
   ]
  },
  {
   "cell_type": "raw",
   "id": "d320b60d-4050-4c95-a621-6c84c3fa1b90",
   "metadata": {},
   "source": [
    "Q10. When is it necessary to use a reflection method? When do you not need it, even though you support the operation in question?\n"
   ]
  },
  {
   "cell_type": "markdown",
   "id": "76d2fbd7-89ab-4639-9c67-126e44bbc40e",
   "metadata": {},
   "source": [
    "Ans: Reflection method we often encounter the requirement that a method in the executing object, or a variable in the calling object, or a field of the object should be assigned, while the method name or field name can not be determined when encoding the code, and need to be input in the form of passing strings through parameters."
   ]
  },
  {
   "cell_type": "raw",
   "id": "668fdd63-27b3-49f6-b918-943d8e7ce684",
   "metadata": {},
   "source": [
    "Q11. What is the __iadd__ method called?\n"
   ]
  },
  {
   "cell_type": "markdown",
   "id": "f402b556-6fc7-4d99-87c7-521012f6a54b",
   "metadata": {},
   "source": [
    "Ans: __iadd__ method is called when we use implementation like a+=b which is a.__iadd__(b)"
   ]
  },
  {
   "cell_type": "raw",
   "id": "1b34748f-b907-4f65-9100-e5a0cd3796e3",
   "metadata": {},
   "source": [
    "Q12. Is the _ _init_ _ method inherited by subclasses? What do you do if you need to customize its behavior within a subclass ?\n"
   ]
  },
  {
   "cell_type": "markdown",
   "id": "86f3b534-7739-4455-8246-bbb6d0671125",
   "metadata": {},
   "source": [
    "Ans: Yes, __init__ method will be inherited by subclasses. if we want to customize its behaviour within a subclass we can use super() method."
   ]
  },
  {
   "cell_type": "code",
   "execution_count": null,
   "id": "f9b1dda1-a3f6-4465-b0c8-e49381c55c81",
   "metadata": {},
   "outputs": [],
   "source": []
  }
 ],
 "metadata": {
  "kernelspec": {
   "display_name": "Python 3 (ipykernel)",
   "language": "python",
   "name": "python3"
  },
  "language_info": {
   "codemirror_mode": {
    "name": "ipython",
    "version": 3
   },
   "file_extension": ".py",
   "mimetype": "text/x-python",
   "name": "python",
   "nbconvert_exporter": "python",
   "pygments_lexer": "ipython3",
   "version": "3.10.6"
  }
 },
 "nbformat": 4,
 "nbformat_minor": 5
}
