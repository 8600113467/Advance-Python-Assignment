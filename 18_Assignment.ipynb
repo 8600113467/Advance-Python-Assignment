{
 "cells": [
  {
   "cell_type": "markdown",
   "id": "b4798f1d-8208-40ce-bede-30798d0191c2",
   "metadata": {},
   "source": [
    "## Advance Python Assignment No.18"
   ]
  },
  {
   "cell_type": "raw",
   "id": "aa5b039c-8e24-4126-9cb0-734e779b12a5",
   "metadata": {},
   "source": [
    "Q1. Describe the differences between text and binary files in a single paragraph.\n",
    "Q2. What are some scenarios where using text files will be the better option? When would you like to use binary files instead of text files?\n",
    "Q3. What are some of the issues with using binary operations to read and write a Python integer directly to disc?\n",
    "Q4. Describe a benefit of using the with keyword instead of explicitly opening a file.\n",
    "Q5. Does Python have the trailing newline while reading a line of text? Does Python append a newline when you write a line of text?\n",
    "Q6. What file operations enable for random-access operation?\n",
    "Q7. When do you think you'll use the struct package the most?\n",
    "Q8. When is pickling the best option?\n",
    "Q9. When will it be best to use the shelve package?\n",
    "Q10. What is a special restriction when using the shelve package, as opposed to using other data dictionaries?"
   ]
  },
  {
   "cell_type": "raw",
   "id": "267b0dc9-dac1-42da-8bcc-596585becfb3",
   "metadata": {},
   "source": [
    "Q1. Describe the differences between text and binary files in a single paragraph."
   ]
  },
  {
   "cell_type": "markdown",
   "id": "16ea64f1-5546-4990-9d4a-33c6eb09173e",
   "metadata": {},
   "source": [
    "Ans: The differences between Text Files and Binary Files are:\n",
    "\n",
    "Text files are special subset of binary files that are used to store human readable characters as a rich text document or plain text document. Text files also store data in sequential bytes but bits in text file represents characters.\n",
    "\n",
    "Binary files are those typical files that store data in the form of sequence of bytes grouped into eight bits or sometimes sixteen bits. These bits represent custom data and such files can store multiple types of data (images, audio, text, etc) under a single file."
   ]
  },
  {
   "cell_type": "raw",
   "id": "39ac2990-803c-404c-bb02-4775f9a118b0",
   "metadata": {},
   "source": [
    "Q2. What are some scenarios where using text files will be the better option? When would you like to use binary files instead of text files?"
   ]
  },
  {
   "cell_type": "markdown",
   "id": "eabd73a4-8f82-4803-b1d1-1409eba47f26",
   "metadata": {},
   "source": [
    "Ans: Text files are less prone to get corrupted as any undesired change may just show up once the file is opened and then can easily be removed. Whereas Use binary files instead of text files for image data."
   ]
  },
  {
   "cell_type": "raw",
   "id": "46fb25ad-3fee-400a-87dd-3afb5c75f099",
   "metadata": {},
   "source": [
    "Q3. What are some of the issues with using binary operations to read and write a Python integer directly to disc?"
   ]
  },
  {
   "cell_type": "markdown",
   "id": "58e3ae7a-3996-42a6-af34-07f77739cd04",
   "metadata": {},
   "source": [
    "Ans: When we read or write a python integer using binary operations\n",
    "\n",
    "Binary operations deal with raw data\n",
    "One needs to identify how many bytes one would read or write."
   ]
  },
  {
   "cell_type": "raw",
   "id": "6da032c9-b7e9-40cd-93f3-3c17b0b3d27b",
   "metadata": {},
   "source": [
    "Q4. Describe a benefit of using the with keyword instead of explicitly opening a file ?"
   ]
  },
  {
   "cell_type": "markdown",
   "id": "9ee11798-4233-48f9-a23f-debe39296f42",
   "metadata": {},
   "source": [
    "Ans: When a file is opened using the with keyword, if some exceptions occur after opening a file, or at the end of the file it automatically does the closing of the file. There by not leaving an file in open mode and there would no need to explicitly close a file.\n"
   ]
  },
  {
   "cell_type": "raw",
   "id": "cfc3b83c-50a4-40f2-966f-25e918f3bad9",
   "metadata": {},
   "source": [
    "Q5. Does Python have the trailing newline while reading a line of text? Does Python append a newline when you write a line of text?\n"
   ]
  },
  {
   "cell_type": "markdown",
   "id": "f387987d-f5ea-440e-823e-53339197834c",
   "metadata": {},
   "source": [
    "Ans: Yes, Python have the trailing newline while reading a line of text. When we write a newline has to be provided in python excpicitly.\n"
   ]
  },
  {
   "cell_type": "raw",
   "id": "692de248-5ddf-4ecf-b022-283a41445fe7",
   "metadata": {},
   "source": [
    "Q6. What file operations enable for random-access operation?\n"
   ]
  },
  {
   "cell_type": "markdown",
   "id": "b5a682a8-6a6a-4661-b8db-544ad10c540c",
   "metadata": {},
   "source": [
    "Ans: The file operations enable for random-access operation are seek() and tell()\n"
   ]
  },
  {
   "cell_type": "raw",
   "id": "fb315cd9-7751-4053-b3cf-4624575df699",
   "metadata": {},
   "source": [
    "Q7. When do you think you'll use the struct package the most?\n"
   ]
  },
  {
   "cell_type": "markdown",
   "id": "fae464b4-3de9-4e46-a96d-91589a89ecb8",
   "metadata": {},
   "source": [
    "Ans: The struct package is mostly used while converting a common python types into C language types."
   ]
  },
  {
   "cell_type": "raw",
   "id": "848b6364-83b5-4973-aab6-4b5e6712aff6",
   "metadata": {},
   "source": [
    "Q8. When is pickling the best option?\n"
   ]
  },
  {
   "cell_type": "markdown",
   "id": "3b31e05a-4022-4896-b8f5-e46827846997",
   "metadata": {},
   "source": [
    "Ans: Pickling is best option for creating a new binary file using python."
   ]
  },
  {
   "cell_type": "raw",
   "id": "89bcfbba-b056-4d84-8950-813ad93b64b5",
   "metadata": {},
   "source": [
    "Q9. When will it be best to use the shelve package?"
   ]
  },
  {
   "cell_type": "markdown",
   "id": "eefbcac1-d88a-4fe1-941a-cddbd900bf5e",
   "metadata": {},
   "source": [
    "Ans: Shelve package is used to pickle data but treats the entire file as dictionary."
   ]
  },
  {
   "cell_type": "raw",
   "id": "4116199e-294e-4289-8904-6144d9ddd1aa",
   "metadata": {},
   "source": [
    "Q10. What is a special restriction when using the shelve package, as opposed to using other data dictionaries?"
   ]
  },
  {
   "cell_type": "markdown",
   "id": "83331584-269a-4f52-8545-98e131d0c244",
   "metadata": {},
   "source": [
    "Ans: Only string data type can be used as key in this special dictionary object, whereas any picklable Python object can be used as value."
   ]
  },
  {
   "cell_type": "code",
   "execution_count": null,
   "id": "e8584b16-2f42-4555-9e88-332b4cea1d23",
   "metadata": {},
   "outputs": [],
   "source": []
  },
  {
   "cell_type": "code",
   "execution_count": null,
   "id": "8a6a8f12-db16-487a-981a-15f105be7cf9",
   "metadata": {},
   "outputs": [],
   "source": []
  }
 ],
 "metadata": {
  "kernelspec": {
   "display_name": "Python 3 (ipykernel)",
   "language": "python",
   "name": "python3"
  },
  "language_info": {
   "codemirror_mode": {
    "name": "ipython",
    "version": 3
   },
   "file_extension": ".py",
   "mimetype": "text/x-python",
   "name": "python",
   "nbconvert_exporter": "python",
   "pygments_lexer": "ipython3",
   "version": "3.10.6"
  }
 },
 "nbformat": 4,
 "nbformat_minor": 5
}
