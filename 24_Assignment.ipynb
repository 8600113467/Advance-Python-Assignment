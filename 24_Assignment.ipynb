{
 "cells": [
  {
   "cell_type": "markdown",
   "id": "f143b035-a1e8-4055-b940-8518e379bc6f",
   "metadata": {},
   "source": [
    "## Advance Python Assignment No.24"
   ]
  },
  {
   "cell_type": "markdown",
   "id": "55c1a68f-af43-42c7-919a-0298c15ac7a1",
   "metadata": {},
   "source": [
    "Q1. Is it permissible to use several import statements to import the same module? What would the goal be? Can you think of a situation where it would be beneficial?\n",
    "Q2. What are some of a module's characteristics? (Name at least one.)\n",
    "Q3. Circular importing, such as when two modules import each other, can lead to dependencies and bugs that aren't visible. How can you go about creating a program that avoids mutual importing?\n",
    "Q4. Why is  _ _all_ _ in Python?\n",
    "Q5. In what situation is it useful to refer to the _ _name_ _ attribute or the string '_ _main_ _'?\n",
    "Q6. What are some of the benefits of attaching a program counter to the RPN interpreter application, which interprets an RPN script line by line?\n",
    "Q7. What are the minimum expressions or statements (or both) that you'd need to render a basic programming language like RPN primitive but complete— that is, capable of carrying out any computerised task theoretically possible?"
   ]
  },
  {
   "cell_type": "markdown",
   "id": "fd819b36-d4e6-4f26-8192-1167d0796ecf",
   "metadata": {},
   "source": [
    "Q1. Is it permissible to use several import statements to import the same module? What would the goal be?\n",
    "Can you think of a situation where it would be beneficial ?"
   ]
  },
  {
   "cell_type": "markdown",
   "id": "e3b87ece-0a39-4171-afef-b632aefdbefa",
   "metadata": {},
   "source": [
    "Ans: Yes, it is permissible to use several import statements to import the same module. It is used in case \n",
    "when we have to import multiple functions from same module."
   ]
  },
  {
   "cell_type": "markdown",
   "id": "b2d64337-de87-48d2-a99f-d811bb3d196b",
   "metadata": {},
   "source": [
    "Q2. What are some of a module's characteristics? (Name at least one.)"
   ]
  },
  {
   "cell_type": "markdown",
   "id": "586b35f8-75e7-4fc8-a609-1d9fa6b0cd13",
   "metadata": {},
   "source": [
    "Ans: The following are some of a module's characteristics:\n",
    "\n",
    "1)__name__ : It returns the name of the module\n",
    "2)__doc__ : It denotes the documentation string line written in a module code.\n",
    "3)__file__ : It holds the name and path of the module file from which it is loaded\n",
    "4)__dict__ : It return a dictionary object of module attributes, functions and other definitions and their respective values"
   ]
  },
  {
   "cell_type": "markdown",
   "id": "0cf45532-3f53-4a71-b40a-365607fb26cc",
   "metadata": {},
   "source": [
    "Q3. Circular importing, such as when two modules import each other, can lead to dependencies and bugs that\n",
    "aren't visible. How can you go about creating a program that avoids mutual importing?"
   ]
  },
  {
   "cell_type": "markdown",
   "id": "c9745dea-5310-44f0-99fa-2b65ed2a145e",
   "metadata": {},
   "source": [
    "Ans: Circular importing means importing the two modules in each other. If suppose we are wokring in MOD1.py \n",
    "file and it is importing some function say F2() from some other module say MOD2.PY file or we can do \n",
    "vice-versa. What will happen is: This will give an import error.\n",
    "This is because when we import F2() function from module MOD2.py, then this will execute MOD2.py file. And in\n",
    "MOD2.py file there is an another statement of importing MOD1.py module.\n",
    "This will result in endless loop. To avoid this error just do one thingWe can use if __name__ == '__main__'\n",
    "\n",
    "In the function, you can't directly refer to the function in the program. The addition of this sentence avoids\n",
    "the endless loop of the program .\n"
   ]
  },
  {
   "cell_type": "markdown",
   "id": "4b0cc2bc-45ad-4a2f-8865-615a49997094",
   "metadata": {},
   "source": [
    "Q4. Why is __all__ in Python ?"
   ]
  },
  {
   "cell_type": "markdown",
   "id": "82deb021-8591-415c-ac16-df7909835364",
   "metadata": {},
   "source": [
    "Ans: It provides list of all modules present in a library."
   ]
  },
  {
   "cell_type": "markdown",
   "id": "0c96a2c0-5f37-4023-abad-20e4ee6475eb",
   "metadata": {},
   "source": [
    "Q5. In what situation is it useful to refer to the __name__ attribute or the string __main_ _ ?"
   ]
  },
  {
   "cell_type": "markdown",
   "id": "00424123-8255-4839-ba79-cced08958f03",
   "metadata": {},
   "source": [
    "Ans: During the time of execution of the code if we want to refer the module in which we are working on then\n",
    "we uses name attribute. In that case it will return the module in which we are working on. Suppose if that\n",
    "moudle is being imported from some other module then name will have the name of that moudle from where the \n",
    "current module has been imported. The current module in which we are working is refer to the string __main __.\n"
   ]
  },
  {
   "cell_type": "markdown",
   "id": "da47f7d2-e41f-41b7-a52b-c4b2f005576e",
   "metadata": {},
   "source": [
    "Q6. What are some of the benefits of attaching a program counter to the RPN interpreter application, which interprets an RPN script line by line?"
   ]
  },
  {
   "cell_type": "markdown",
   "id": "9d2c5a3f-ae6f-423b-8d70-f8ea17e57a5a",
   "metadata": {},
   "source": [
    "Attaching a program counter to an RPN (Reverse Polish Notation) interpreter application that processes RPN scripts line by line can offer several benefits:\n",
    "\n",
    "Precise Error Handling: With a program counter, you can pinpoint the exact line or instruction in the RPN script where an error occurred. This makes it easier to provide detailed error messages to users, aiding in debugging and troubleshooting.\n",
    "\n",
    "Conditional Execution: A program counter enables you to implement conditional logic in your RPN interpreter. You can skip or repeat lines of code based on certain conditions, enhancing the flexibility of your interpreter.\n",
    "\n",
    "Control Flow: By tracking the program counter, you can implement control flow structures like loops and subroutines within your RPN scripts. This allows for more complex and powerful scripting capabilities.\n",
    "\n",
    "Interactive Debugging: When users are working with RPN scripts, having a program counter facilitates interactive debugging. Users can step through the script one line at a time, inspecting intermediate results and identifying issues more easily."
   ]
  },
  {
   "cell_type": "markdown",
   "id": "06327c7b-e22b-412c-b81f-8e84183a0085",
   "metadata": {},
   "source": [
    "Q7. What are the minimum expressions or statements (or both) that you'd need to render a basic programming language like RPN primitive but complete— that is, capable of carrying out any computerised task theoretically possible?\n"
   ]
  },
  {
   "cell_type": "markdown",
   "id": "cfa20a2d-a748-4804-95d4-0acacc393720",
   "metadata": {},
   "source": []
  }
 ],
 "metadata": {
  "kernelspec": {
   "display_name": "Python 3 (ipykernel)",
   "language": "python",
   "name": "python3"
  },
  "language_info": {
   "codemirror_mode": {
    "name": "ipython",
    "version": 3
   },
   "file_extension": ".py",
   "mimetype": "text/x-python",
   "name": "python",
   "nbconvert_exporter": "python",
   "pygments_lexer": "ipython3",
   "version": "3.10.6"
  }
 },
 "nbformat": 4,
 "nbformat_minor": 5
}
