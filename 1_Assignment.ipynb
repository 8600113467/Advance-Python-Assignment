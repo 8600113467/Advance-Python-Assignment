{
 "cells": [
  {
   "cell_type": "markdown",
   "id": "8f2dbffe-fb6c-4b39-94ce-9954d3b09c52",
   "metadata": {},
   "source": [
    "## Advance Python Assignment no.1"
   ]
  },
  {
   "cell_type": "raw",
   "id": "7dc06731-5182-4344-b1b8-31de4298801c",
   "metadata": {},
   "source": [
    "Q1. What is the purpose of Python's OOP?\n",
    "Q2. Where does an inheritance search look for an attribute?\n",
    "Q3. How do you distinguish between a class object and an instance object?\n",
    "Q4. What makes the first argument in a class’s method function special?\n",
    "Q5. What is the purpose of the __init__ method?\n",
    "Q6. What is the process for creating a class instance?\n",
    "Q7. What is the process for creating a class?\n",
    "Q8. How would you define the superclasses of a class?\n"
   ]
  },
  {
   "cell_type": "markdown",
   "id": "b1c5a559-20f3-42b3-b956-cf818703f621",
   "metadata": {},
   "source": [
    "Q1. What is the purpose of Python's OOP?\n",
    "\n",
    "**ANS:**\n",
    "The purpose of Python's Object-Oriented Programming (OOP) is to facilitate the organization and structure of code by modeling real-world objects and their interactions using objects and classes. OOP is a programming paradigm that encourages the use of objects, which are instances of classes, to represent data and behavior in a modular and reusable way. "
   ]
  },
  {
   "cell_type": "markdown",
   "id": "2b1b4ff5-961d-4a84-8067-55041a75d229",
   "metadata": {},
   "source": [
    "Q2. Where does an inheritance search look for an attribute?\n",
    "\n",
    "**ANS:**\n",
    "In Python, when you access an attribute (such as a method or variable) of an object, the inheritance search looks for that attribute in the following order:\n",
    "\n",
    "Instance Namespace:- It first checks if the attribute is present in the instance itself. If found, it is used.\n",
    "Class Namespace:-   If the attribute is not found in the instance, it looks in the class of the instance. If found, it is used.\n",
    "Base Classes (Superclasses):- If the attribute is not found in the class, Python searches through the class's base classes\n",
    "(superclasses) in a depth-first, left-to-right order until it finds the attribute or reaches the top of the inheritance hierarchy (usually the base class called object)."
   ]
  },
  {
   "cell_type": "markdown",
   "id": "8b917e94-c9be-4479-923b-915572a6cf01",
   "metadata": {},
   "source": [
    "Q3. How do you distinguish between a class object and an instance object?\n",
    "\n",
    "**ANS:** A class object is an instance of a class and represents the class itself. It contains class-level attributes and methods that apply to all instances of the class.\n",
    "An instance object is created from a class and represents a specific instance of that class. It contains instance-specific attributes and methods."
   ]
  },
  {
   "cell_type": "markdown",
   "id": "4aafae5b-4d23-418a-9987-cd3aea16293a",
   "metadata": {},
   "source": [
    "Q4. What makes the first argument in a class’s method function special?\n",
    "\n",
    "**ANS:** The first argument in a class's method function is typically named self, although you can technically name it anything you like \n",
    "(though it's a best practice to stick with self). This argument refers to the instance of the class on which the method is called.\n",
    " It allows you to access and manipulate the instance's attributes and methods. By convention, you should always include self as the first parameter in instance methods.\n"
   ]
  },
  {
   "cell_type": "markdown",
   "id": "7a3741a7-5989-4a4d-9a5c-39fc6c82e974",
   "metadata": {},
   "source": [
    "Q5. What is the purpose of the __init__ method?\n",
    "\n",
    "**ANS:** The __init__ method is a special method in Python known as the constructor. It is automatically called when a new instance of a class is created. The purpose of __init__ is to initialize the attributes and state of the newly created instance. You can set instance-specific attributes and perform any necessary setup operations within this method."
   ]
  },
  {
   "cell_type": "markdown",
   "id": "a8f342fd-0f91-48e8-8aa4-002b8a16f1fb",
   "metadata": {},
   "source": [
    "Q6. What is the process for creating a class instance? \n",
    "\n",
    "**ANS:** To create an instance of a class in Python, you follow these steps:\n",
    "Define a class that specifies the structure and behavior of the objects you want to create.\n",
    "Use the class name followed by parentheses to call the class constructor (usually __init__) with any required arguments. This creates a new instance of the class.\n"
   ]
  },
  {
   "cell_type": "code",
   "execution_count": 1,
   "id": "5e8c9048-4041-4d8d-a7a5-58de94006e1b",
   "metadata": {},
   "outputs": [],
   "source": [
    "# Example:\n",
    "\n",
    "class MyClass:\n",
    "    def __init__(self, arg1, arg2):\n",
    "        # Initialize attributes here\n",
    "        self.arg1 = arg1\n",
    "        self.arg2 = arg2\n",
    "\n",
    "# Create an instance of MyClass\n",
    "obj = MyClass(\"arg1\", \"arg2\")"
   ]
  },
  {
   "cell_type": "markdown",
   "id": "eded2a40-f4de-4bbf-a5f0-f3527ab1aa9f",
   "metadata": {},
   "source": [
    "Q7. What is the process for creating a class?\n",
    "\n",
    "**ANS:** To create a class in Python, you follow these steps:\n",
    "\n",
    "Use the class keyword followed by the class name to define the class.\n",
    "\n",
    "Define class-level attributes and methods within the class block."
   ]
  },
  {
   "cell_type": "code",
   "execution_count": 2,
   "id": "085d0d0c-754f-4bca-8479-fe6adfcf8a00",
   "metadata": {},
   "outputs": [],
   "source": [
    "# Example:\n",
    "class MyClass:\n",
    "    class_variable = 123  # Class-level attribute\n",
    "\n",
    "    def class_method(self):\n",
    "        # Class-level method code\n",
    "        pass"
   ]
  },
  {
   "cell_type": "markdown",
   "id": "48b53c3a-cfab-4157-849d-4130609d7f04",
   "metadata": {},
   "source": [
    "Q8. How would you define the superclasses of a class?\n",
    "\n",
    "**ANS:** The superclasses (also known as base classes or parent classes) of a class in Python are defined by specifying them in the parentheses after the class name when defining the class. You can have multiple superclasses separated by commas to create a class that inherits from multiple parent classes."
   ]
  },
  {
   "cell_type": "code",
   "execution_count": 1,
   "id": "0de5f063-d551-404d-ae56-1fa50f7c7fbd",
   "metadata": {},
   "outputs": [],
   "source": [
    "# Example:\n",
    "class Parent1:\n",
    "    pass\n",
    "\n",
    "class Parent2:\n",
    "    pass\n",
    "\n",
    "class Child(Parent1, Parent2):\n",
    "    pass\n",
    "# In this example, the Child class inherits from both Parent1 and Parent2, making them its superclasses."
   ]
  },
  {
   "cell_type": "code",
   "execution_count": null,
   "id": "ce2f0d8a-fc7e-4584-9ba8-8a7c1101e57d",
   "metadata": {},
   "outputs": [],
   "source": []
  }
 ],
 "metadata": {
  "kernelspec": {
   "display_name": "Python 3 (ipykernel)",
   "language": "python",
   "name": "python3"
  },
  "language_info": {
   "codemirror_mode": {
    "name": "ipython",
    "version": 3
   },
   "file_extension": ".py",
   "mimetype": "text/x-python",
   "name": "python",
   "nbconvert_exporter": "python",
   "pygments_lexer": "ipython3",
   "version": "3.10.6"
  }
 },
 "nbformat": 4,
 "nbformat_minor": 5
}
