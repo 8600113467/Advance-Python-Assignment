{
 "cells": [
  {
   "cell_type": "markdown",
   "id": "5dc1aaf5-3b5a-4f5c-8ae8-eedacdeebdb5",
   "metadata": {},
   "source": [
    "## Python Advance Assignment No.25"
   ]
  },
  {
   "cell_type": "raw",
   "id": "f8fa1aaa-d199-4412-8bbe-41262d0935da",
   "metadata": {},
   "source": [
    "Q1. What is the distinction between a numpy array and a pandas data frame? Is there a way to convert between the two if there is?\n",
    "Q2. What can go wrong when an user enters in a stock-ticker symbol, and how do you handle it?\n",
    "Q3. Identify some of the plotting techniques that are used to produce a stock-market chart.\n",
    "Q4. Why is it essential to print a legend on a stock market chart?\n",
    "Q5. What is the best way to limit the length of a pandas data frame to less than a year?\n",
    "Q6. What is the definition of a 180-day moving average?"
   ]
  },
  {
   "cell_type": "raw",
   "id": "54d8985b-267c-40fd-9620-bda687bbd008",
   "metadata": {},
   "source": [
    "Q1. What is the distinction between a numpy array and a pandas data frame? Is there a way to convert between the two if there is ?\n"
   ]
  },
  {
   "cell_type": "markdown",
   "id": "06ac3162-b698-44c7-abea-bf92424a621a",
   "metadata": {},
   "source": [
    "**ANS:**\n",
    "Numpy arrays and Pandas DataFrames are both data structures commonly used in Python for data manipulation and analysis, but they have distinct characteristics:\n",
    "\n",
    "**Numpy Array:**\n",
    "\n",
    "Numpy arrays are homogeneous, meaning they store elements of the same data type.\n",
    "They are primarily used for numerical computations and mathematical operations.\n",
    "Numpy arrays are more memory-efficient and faster for mathematical operations compared to Python lists.\n",
    "They are usually n-dimensional, which means they can represent matrices, vectors, and higher-dimensional arrays.\n",
    "\n",
    "**Pandas DataFrame:**\n",
    "\n",
    "Pandas DataFrames are heterogeneous, allowing you to store data of different data types (integers, floats, strings, etc.) in columns.\n",
    "They are built on top of Numpy arrays and provide labeled axes (rows and columns).\n",
    "DataFrames are designed for data manipulation and analysis, especially for tabular data (like spreadsheets or SQL tables).\n",
    "They offer powerful data exploration and manipulation tools, including data alignment, indexing, and group operations.\n",
    "To convert between Numpy arrays and Pandas DataFrames, you can use the following methods:\n",
    "\n"
   ]
  },
  {
   "cell_type": "code",
   "execution_count": 1,
   "id": "0632866a-4f10-44b9-9f64-110800100e31",
   "metadata": {},
   "outputs": [
    {
     "name": "stdout",
     "output_type": "stream",
     "text": [
      "pandas dataframe    A  B  C\n",
      "0  1  2  3\n",
      "1  4  5  6\n",
      "--------------------\n",
      "numpy_array [[1 2 3]\n",
      " [4 5 6]]\n"
     ]
    }
   ],
   "source": [
    "import pandas as pd\n",
    "import numpy as np\n",
    "# From Numpy Array to Pandas DataFrame:\n",
    "numpy_array = np.array([[1, 2, 3], [4, 5, 6]])\n",
    "df = pd.DataFrame(numpy_array, columns=['A', 'B', 'C'])\n",
    "\n",
    "# From Pandas DataFrame to Numpy Array:\n",
    "numpy_array = df.to_numpy()\n",
    "\n",
    "print(\"pandas dataframe\",  df)\n",
    "print(\"-\"*20)\n",
    "print(\"numpy_array\",numpy_array)"
   ]
  },
  {
   "cell_type": "raw",
   "id": "7c431f98-e682-4eec-b1ff-7599fe71ddf1",
   "metadata": {},
   "source": [
    "Q2. What can go wrong when an user enters in a stock-ticker symbol, and how do you handle it?"
   ]
  },
  {
   "cell_type": "markdown",
   "id": "e0385b4d-1387-4cb9-bbdc-5f1783b1c014",
   "metadata": {},
   "source": [
    "**ANS:** When a user enters a stock ticker symbol, several issues can potentially arise, and it's essential to handle\n",
    "them to ensure a smooth user experience and accurate results. Here are common problems that can occur when\n",
    "handling user-entered stock ticker symbols and how to handle them:\n",
    "\n",
    " invalide ticker symbol,\n",
    " case sensitivity,\n",
    " multiple listings,\n",
    " Special Characters and Spaces,\n",
    " Data Source Changes\n",
    "    "
   ]
  },
  {
   "cell_type": "raw",
   "id": "c020321a-8149-4b7f-b520-01c5a04a8cf1",
   "metadata": {},
   "source": [
    "Q3. Identify some of the plotting techniques that are used to produce a stock-market chart ?\n"
   ]
  },
  {
   "cell_type": "markdown",
   "id": "463805ea-8241-41f9-bcd4-a94deccddffd",
   "metadata": {},
   "source": [
    "Ans: Bar chart, Line Chart,Candlestick Charts,Volume Charts,Moving Average are used for plotting.\n"
   ]
  },
  {
   "cell_type": "raw",
   "id": "fb275944-a2b2-45fe-8557-169f6de8e72f",
   "metadata": {},
   "source": [
    "Q4. Why is it essential to print a legend on a stock market chart ?"
   ]
  },
  {
   "cell_type": "markdown",
   "id": "5371154c-5200-428f-a872-71d43561d916",
   "metadata": {},
   "source": [
    "Printing a legend on a stock market chart is crucial for clarity, interpretation, and effective communication\n",
    "of information. It aids viewers in understanding the data presented, reduces the risk of errors, and \n",
    "supports comparisons and decision-making. Whether you're a trader, analyst, investor, or presenter, a \n",
    "well-labeled legend enhances the overall quality and utility of the chart."
   ]
  },
  {
   "cell_type": "raw",
   "id": "7eb2f744-a486-439d-bca0-d3895a83c5e5",
   "metadata": {},
   "source": [
    "Q5. What is the best way to limit the length of a pandas data frame to less than a year ?\n"
   ]
  },
  {
   "cell_type": "markdown",
   "id": "aa1524d7-1049-4bb7-a1c4-3d2eb448d6d3",
   "metadata": {},
   "source": [
    "Ans: : We can use start and end parameters for that. In start we write the date from where we are \n",
    "starting and at the end we write the end date. SO within this span we can restric the duration.Also we\n",
    "can use the parameters like periods for how much times we need the duration and we can also use the \n",
    "frequency parameter."
   ]
  },
  {
   "cell_type": "raw",
   "id": "dfacdbe7-b0ea-42e3-a5b2-dce7663f5d3f",
   "metadata": {},
   "source": [
    "Q6. What is the definition of a 180-day moving average ?\n"
   ]
  },
  {
   "cell_type": "markdown",
   "id": "abc67abc-2af9-49f8-8bfd-2b1ef8b19704",
   "metadata": {},
   "source": [
    "Ans: : The 180-day moving average is represented as a line on charts and represents the average price\n",
    "over the past 180 days. The moving average can give traders a sense regarding whether the trend is up or\n",
    "down, while also identifying potential support or resistance areas."
   ]
  },
  {
   "cell_type": "code",
   "execution_count": null,
   "id": "ba463779-aa63-45f9-9bf5-b5c2b9df0c27",
   "metadata": {},
   "outputs": [],
   "source": []
  },
  {
   "cell_type": "code",
   "execution_count": null,
   "id": "53960b1f-fcec-47ee-88b5-ff800c861ac9",
   "metadata": {},
   "outputs": [],
   "source": []
  },
  {
   "cell_type": "code",
   "execution_count": null,
   "id": "6c24e13e-c0f3-4872-895c-e1c8e520b64e",
   "metadata": {},
   "outputs": [],
   "source": []
  },
  {
   "cell_type": "code",
   "execution_count": null,
   "id": "31e64400-0a50-4f9d-8dfa-c816739ee733",
   "metadata": {},
   "outputs": [],
   "source": []
  }
 ],
 "metadata": {
  "kernelspec": {
   "display_name": "Python 3 (ipykernel)",
   "language": "python",
   "name": "python3"
  },
  "language_info": {
   "codemirror_mode": {
    "name": "ipython",
    "version": 3
   },
   "file_extension": ".py",
   "mimetype": "text/x-python",
   "name": "python",
   "nbconvert_exporter": "python",
   "pygments_lexer": "ipython3",
   "version": "3.10.6"
  }
 },
 "nbformat": 4,
 "nbformat_minor": 5
}
