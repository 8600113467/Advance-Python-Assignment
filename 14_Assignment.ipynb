{
 "cells": [
  {
   "cell_type": "markdown",
   "id": "b7eac128-3281-49a8-8aac-e4b72bf64a4e",
   "metadata": {},
   "source": [
    "## Advance Python Assignment No.14"
   ]
  },
  {
   "cell_type": "raw",
   "id": "904d983c-2648-427d-b2ef-7515b2128e29",
   "metadata": {},
   "source": [
    "Q1. Is an assignment operator like += only for show? Is it possible that it would lead to faster results at the runtime?\n",
    "Q2. What is the smallest number of statements you'd have to write in most programming languages to replace the Python expression a, b = a + b, a?\n",
    "Q3. In Python, what is the most effective way to set a list of 100 integers to 0?\n",
    "Q4. What is the most effective way to initialise a list of 99 integers that repeats the sequence 1, 2, 3? S If necessary, show step-by-step instructions on how to accomplish this.\n",
    "Q5. If you're using IDLE to run a Python application, explain how to print a multidimensional list as efficiently?\n",
    "Q6. Is it possible to use list comprehension with a string? If so, how can you go about doing it?\n",
    "Q7. From the command line, how do you get support with a user-written Python programme? Is this possible from inside IDLE?\n",
    "Q8. Functions are said to be “first-class objects” in Python but not in most other languages, such as C++ or Java. What can you do in Python with a function (callable object) that you can't do in C or C++?\n",
    "Q9. How do you distinguish between a wrapper, a wrapped feature, and a decorator?\n",
    "Q10. If a function is a generator function, what does it return?\n",
    "Q11. What is the one improvement that must be made to a function in order for it to become a generator function in the Python language?\n",
    "Q12. Identify at least one benefit of generators."
   ]
  },
  {
   "cell_type": "raw",
   "id": "baf2fa9a-4813-4c14-9e37-dc7da0d76bbd",
   "metadata": {},
   "source": [
    "Q1. Is an assignment operator like += only for show? Is it possible that it would lead to faster results at the runtime?"
   ]
  },
  {
   "cell_type": "markdown",
   "id": "7f44f0d2-18b4-4eac-b897-b3f057fa98e7",
   "metadata": {},
   "source": [
    "**ANS:**\n",
    "\n",
    "The assignment operator += in Python is not just for show; it serves a practical purpose and can lead to more efficient code in certain situations. It is used to perform in-place addition, which means it modifies the value of a variable by adding another value to it without creating a new object. Whether it leads to faster results at runtime depends on the context and data types involved.\n",
    "\n",
    "Here are some key points to consider:\n",
    "\n",
    "**Efficiency:** Using += can be more efficient than creating a new object and reassigning it to the variable, especially when dealing with mutable data structures like lists. When you use += on a list, you are modifying the list in place, which is generally faster than creating a new list and copying elements into it.\n",
    "\n",
    "**Readability:** += can make your code more concise and easier to read when you want to update a variable's value by adding something to it. It conveys your intention directly.\n",
    "\n",
    "\n",
    "**Immutability:** It's important to note that += is not applicable to all data types. It works for mutable data types like lists, but for immutable types like strings and tuples, it creates a new object rather than modifying the existing one.\n"
   ]
  },
  {
   "cell_type": "code",
   "execution_count": 6,
   "id": "db08ea0f-ecbb-434b-bf96-42bc47cb611f",
   "metadata": {},
   "outputs": [
    {
     "data": {
      "text/plain": [
       "[1, 2, 3, 4, 5]"
      ]
     },
     "execution_count": 6,
     "metadata": {},
     "output_type": "execute_result"
    }
   ],
   "source": [
    "my_list = [1, 2, 3]\n",
    "my_list += [4, 5]  \n",
    "\n",
    "my_list"
   ]
  },
  {
   "cell_type": "raw",
   "id": "1e1415b1-d13f-4056-b5dc-1d0b84099c70",
   "metadata": {},
   "source": [
    "Q2. What is the smallest number of statements you'd have to write in most programming languages to replace the Python expression a, b = a + b, a?\n"
   ]
  },
  {
   "cell_type": "markdown",
   "id": "4d886c4f-7774-4afe-8a84-599c26819f27",
   "metadata": {},
   "source": [
    "**ANS:**\n",
    "In most programming languages, you would need at least three statements to replace the Python expression a, b = a + b, a because you typically need to use a temporary variable to hold one of the values temporarily during the swap. Here's an example in a language-agnostic pseudocode:\n",
    "\n",
    "pseudo code\n",
    "temp = a + b\n",
    "a = b\n",
    "b = temp\n",
    "In this pseudocode, we use the variable temp to temporarily store the value of a + b so that we can update a and b without losing either of their original values. This is a common pattern for swapping values in many programming languages.\n"
   ]
  },
  {
   "cell_type": "raw",
   "id": "4d1ca9e0-89ab-45f1-bed0-d8dd753dc1f7",
   "metadata": {},
   "source": [
    "Q3. In Python, what is the most effective way to set a list of 100 integers to 0?"
   ]
  },
  {
   "cell_type": "code",
   "execution_count": 15,
   "id": "7a6b53e9-895e-4fc4-96a0-d61ce6c54d8b",
   "metadata": {},
   "outputs": [
    {
     "data": {
      "text/plain": [
       "['0 0 0 0 0 0 0 0 0 0 0 0 0 0 0 0 0 0 0 0 0 0 0 0 0 0 0 0 0 0 0 0 0 0 0 0 0 0 0 0 0 0 0 0 0 0 0 0 0 0 0 0 0 0 0 0 0 0 0 0 0 0 0 0 0 0 0 0 0 0 0 0 0 0 0 0 0 0 0 0 0 0 0 0 0 0 0 0 0 0 0 0 0 0 0 0 0 0 0 0 ']"
      ]
     },
     "execution_count": 15,
     "metadata": {},
     "output_type": "execute_result"
    }
   ],
   "source": [
    "The most effective way to set a list of 100 integers to 0 in Python is to use a list comprehension. Here's an example:\n",
    "my_list = [\"0 \" * 100]\n",
    "\n",
    "my_list"
   ]
  },
  {
   "cell_type": "raw",
   "id": "dd4de24d-f00e-4c82-aa5c-3969c8ef8bcd",
   "metadata": {},
   "source": [
    "Q4. What is the most effective way to initialise a list of 99 integers that repeats the sequence 1, 2, 3? S If necessary, show step-by-step instructions on how to accomplish this.\n"
   ]
  },
  {
   "cell_type": "code",
   "execution_count": 2,
   "id": "4897bed4-9047-4678-87fe-4c0af45b2527",
   "metadata": {},
   "outputs": [
    {
     "data": {
      "text/plain": [
       "list[[1, 2, 3, 1, 2, 3, 1, 2, 3, 1, 2, 3, 1, 2, 3, 1, 2, 3, 1, 2, 3, 1, 2, 3, 1, 2, 3, 1, 2, 3, 1, 2, 3, 1, 2, 3, 1, 2, 3, 1, 2, 3, 1, 2, 3, 1, 2, 3, 1, 2, 3, 1, 2, 3, 1, 2, 3, 1, 2, 3, 1, 2, 3, 1, 2, 3, 1, 2, 3, 1, 2, 3, 1, 2, 3, 1, 2, 3, 1, 2, 3, 1, 2, 3, 1, 2, 3, 1, 2, 3, 1, 2, 3, 1, 2, 3, 1, 2, 3]]"
      ]
     },
     "execution_count": 2,
     "metadata": {},
     "output_type": "execute_result"
    }
   ],
   "source": [
    "import itertools\n",
    "repeating_sequence = [1, 2, 3] #Create a list that contains the repeating sequence 1, 2, 3.\n",
    "\n",
    "result_list = [x for x in itertools.islice(itertools.cycle(repeating_sequence), 99)]\n",
    "\n",
    "list[result_list]"
   ]
  },
  {
   "cell_type": "raw",
   "id": "97c99996-ceb5-4bba-9132-0deebb5f8b39",
   "metadata": {},
   "source": [
    "Q5. If you're using IDLE to run a Python application, explain how to print a multidimensional list as efficiently?"
   ]
  },
  {
   "cell_type": "markdown",
   "id": "518683e1-7d94-4524-92e5-23366c6bb6c0",
   "metadata": {},
   "source": [
    "**ANS:**\n",
    "In IDLE, printing a multidimensional list efficiently is similar to printing any other list or data structure. You can use a loop to iterate through the rows and columns of the multidimensional list and print each element. Here's a step-by-step guide:\n",
    "\n",
    "Open IDLE and create or load your Python script that contains the multidimensional list.\n",
    "\n",
    "Define your multidimensional list. For this example, let's assume you have a 2D list called matrix.\n",
    "\n",
    "python\n",
    "Copy code\n",
    "matrix = [[1, 2, 3], [4, 5, 6], [7, 8, 9]]\n",
    "Use nested loops to iterate through the rows and columns of the list and print each element. Here's an example using a for loop:"
   ]
  },
  {
   "cell_type": "code",
   "execution_count": 32,
   "id": "37ad9af3-410f-4371-b038-21e8b70af73a",
   "metadata": {},
   "outputs": [
    {
     "name": "stdout",
     "output_type": "stream",
     "text": [
      "1\t2\t3\t\n",
      "4\t5\t6\t\n",
      "7\t8\t9\t\n"
     ]
    }
   ],
   "source": [
    "matrix = [[1, 2, 3], [4, 5, 6], [7, 8, 9]]\n",
    "for row in matrix:\n",
    "    for element in row:\n",
    "        print(element, end='\\t')# Use '\\t' for tab-separated formatting\n",
    "    print()"
   ]
  },
  {
   "cell_type": "raw",
   "id": "5ec5c3b1-be87-45d9-be91-88d3cfcd38df",
   "metadata": {},
   "source": [
    "Q6. Is it possible to use list comprehension with a string? If so, how can you go about doing it?"
   ]
  },
  {
   "cell_type": "markdown",
   "id": "8b520e03-d545-404b-9b4d-886f2d60077c",
   "metadata": {
    "tags": []
   },
   "source": [
    "**ANS:**\n",
    "Yes, we can use list comprehension with a string in Python. List comprehensions are not limited to working only with lists; they can be used with any iterable, including strings. List comprehensions can be used to create a new list by applying an expression to each character in the string. Here's how you can do it"
   ]
  },
  {
   "cell_type": "code",
   "execution_count": 33,
   "id": "9bdcd72e-1a33-49ea-9f60-6633dab71ae6",
   "metadata": {},
   "outputs": [
    {
     "name": "stdout",
     "output_type": "stream",
     "text": [
      "['H', 'e', 'l', 'l', 'o', ',', ' ', 'W', 'o', 'r', 'l', 'd', '!']\n"
     ]
    }
   ],
   "source": [
    "my_string = \"Hello, World!\"\n",
    "\n",
    "# Using list comprehension to create a list of characters\n",
    "char_list = [char for char in my_string]\n",
    "\n",
    "# Printing the result\n",
    "print(char_list)"
   ]
  },
  {
   "cell_type": "raw",
   "id": "a563cee4-bd59-4f57-8191-6413242558f3",
   "metadata": {},
   "source": [
    "Q7. From the command line, how do you get support with a user-written Python programme? Is this possible from inside IDLE?"
   ]
  },
  {
   "cell_type": "markdown",
   "id": "f6cf6c76-37f9-4c6f-93bd-398b27eea530",
   "metadata": {},
   "source": [
    "**ANS:** Get support with a user-written Python Programme: Start a command prompt (Windows) or terminal window (Linux/Mac). If the current working directory is the same as the location in which you saved the file, you can simply specify the filename as a command-line argument to the Python interpreter.\n",
    "\n",
    "Get support with a User-written Python Program from IDLE: You can also create script files and run them in IDLE. From the Shell window menu, select File → New File. That should open an additional editing window. Type in the code to be executed. From the menu in that window, select File → Save or File → Save As… and save the file to disk. Then select Run → Run Module. The output should appear back in the interpreter"
   ]
  },
  {
   "cell_type": "raw",
   "id": "f8ae19cf-277c-4551-961b-7ccb54dd4b66",
   "metadata": {},
   "source": [
    "Q8. Functions are said to be “first-class objects” in Python but not in most other languages, such as C++ or Java. What can you do in Python with a function (callable object) that you can't do in C or C++?"
   ]
  },
  {
   "cell_type": "markdown",
   "id": "48f04f76-4113-47c3-a2f6-c71622d62164",
   "metadata": {},
   "source": [
    "**ANS:**\n",
    "The tasks which can be performed with the functions in python are:\n",
    "\n",
    "A function is an instance of the Object type.\n",
    "\n",
    "You can store the function in a variable.\n",
    "\n",
    "You can pass the function as a parameter to another function.\n",
    "\n",
    "You can return the function from a function.\n",
    "\n",
    "You can store them in data structures such as hash tables, lists,"
   ]
  },
  {
   "cell_type": "raw",
   "id": "8b33958a-00f8-4b79-bfed-c727d5c4363a",
   "metadata": {},
   "source": [
    "Q9. How do you distinguish between a wrapper, a wrapped feature, and a decorator?"
   ]
  },
  {
   "cell_type": "markdown",
   "id": "de6baea0-c8d0-4388-b777-682b4dd54813",
   "metadata": {},
   "source": [
    "**ANS:** In Python, the terms \"wrapper,\" \"wrapped feature,\" and \"decorator\" are often used in the context of extending or modifying the behavior of functions or methods. Here's how you can distinguish between these concepts:\n",
    "\n",
    "**Wrapper:**\n",
    "\n",
    "A \"wrapper\" is a function or method that takes another function or method as an argument or as part of its functionality.\n",
    "It is used to encapsulate or wrap around the behavior of the wrapped feature.\n",
    "Wrappers are typically responsible for adding some behavior before, after, or around the wrapped feature.\n",
    "They are often used to implement aspects such as logging, timing, authentication, or error handling.\n",
    "\n",
    "**decorator:**\n",
    "\n",
    "A \"decorator\" is a special type of wrapper that is used to modify or enhance the behavior of functions or methods in a clean and syntactically pleasing way.\n",
    "It is often defined using the \"@\" symbol followed by the decorator function's name on top of a function definition.\n",
    "Decorators are a Pythonic way to apply wrappers to functions or methods.\n",
    "\n",
    " a \"wrapper\" is a general concept for a function that extends or modifies the behavior of another function (the wrapped feature). A \"decorator\" is a specific type of wrapper that uses the @ symbol to apply the wrapper function to the wrapped feature in a concise and readable way. Both wrappers and decorators are used to achieve aspects of code modularization, separation of concerns, and reusability by augmenting functions or methods with additional behavior."
   ]
  },
  {
   "cell_type": "raw",
   "id": "474ab427-6313-4579-8c46-efa032787bc2",
   "metadata": {},
   "source": [
    "Q10. If a function is a generator function, what does it return?"
   ]
  },
  {
   "cell_type": "markdown",
   "id": "4a69728c-0f8d-4a34-af2d-9f69e89fcba2",
   "metadata": {},
   "source": [
    "**ANS:** Generator functions are a special kind of function that return a lazy iterator. These are objects that you can loop over like a list.\n",
    "However, unlike lists, lazy iterators do not store their contents in memory."
   ]
  },
  {
   "cell_type": "raw",
   "id": "c8dec040-3cce-4c05-8967-b3571d709c0d",
   "metadata": {},
   "source": [
    "Q11. What is the one improvement that must be made to a function in order for it to become a generator function in the Python language?"
   ]
  },
  {
   "cell_type": "markdown",
   "id": "dd0cd750-fe37-4b81-a861-69fcb546289d",
   "metadata": {},
   "source": [
    "**ANS:** Generator is a written as normal function but uses yield keyword to return values instead of return keyword."
   ]
  },
  {
   "cell_type": "raw",
   "id": "6cd5df45-48c8-443d-b095-190e32d5a84c",
   "metadata": {},
   "source": [
    "Q12. Identify at least one benefit of generators."
   ]
  },
  {
   "cell_type": "markdown",
   "id": "ced59c9a-93e0-4b2a-a8a0-bd6edcdc9585",
   "metadata": {},
   "source": [
    "**ANS:** return statement sends a specified value back to its caller whereas yield statment can produce a sequence of values. We should use \n",
    "generator when we want to iterate over a sequence, but don’t want to store the entire sequence in memory."
   ]
  },
  {
   "cell_type": "code",
   "execution_count": null,
   "id": "c6e7d357-3560-45be-bd89-635ad1c5de5b",
   "metadata": {},
   "outputs": [],
   "source": []
  }
 ],
 "metadata": {
  "kernelspec": {
   "display_name": "Python 3 (ipykernel)",
   "language": "python",
   "name": "python3"
  },
  "language_info": {
   "codemirror_mode": {
    "name": "ipython",
    "version": 3
   },
   "file_extension": ".py",
   "mimetype": "text/x-python",
   "name": "python",
   "nbconvert_exporter": "python",
   "pygments_lexer": "ipython3",
   "version": "3.10.6"
  }
 },
 "nbformat": 4,
 "nbformat_minor": 5
}
