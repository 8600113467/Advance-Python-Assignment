{
 "cells": [
  {
   "cell_type": "markdown",
   "id": "ade9312b-f1fe-4a4c-85b0-1ca4767ad7ea",
   "metadata": {
    "tags": []
   },
   "source": [
    "## Advance Python Assignment No.17"
   ]
  },
  {
   "cell_type": "raw",
   "id": "7dc4d458-3ea3-42e8-bf9b-e5a054bb0782",
   "metadata": {},
   "source": [
    "Q1. Explain the difference between greedy and non-greedy syntax with visual terms in as few words as possible. What is the bare minimum effort required to transform a greedy pattern into a non-greedy one? What characters or characters can you introduce or change?\n",
    "Q2. When exactly does greedy versus non-greedy make a difference?  What if you're looking for a non-greedy match but the only one available is greedy?\n",
    "Q3. In a simple match of a string, which looks only for one match and does not do any replacement, is the use of a nontagged group likely to make any practical difference?\n",
    "Q4. Describe a scenario in which using a nontagged category would have a significant impact on the program's outcomes.\n",
    "Q5. Unlike a normal regex pattern, a look-ahead condition does not consume the characters it examines. Describe a situation in which this could make a difference in the results of your programme.\n",
    "Q6. In standard expressions, what is the difference between positive look-ahead and negative look-ahead?\n",
    "Q7. What is the benefit of referring to groups by name rather than by number in a standard expression?\n",
    "Q8. Can you identify repeated items within a target string using named groups, as in \"The cow jumped over the moon\"?\n",
    "Q9. When parsing a string, what is at least one thing that the Scanner interface does for you that the re.findall feature does not?\n",
    "Q10. Does a scanner object have to be named scanner?\n"
   ]
  },
  {
   "cell_type": "raw",
   "id": "56d9ee39-bbc8-4cb6-aa01-de584636aef5",
   "metadata": {},
   "source": [
    "Q1. Explain the difference between greedy and non-greedy syntax with visual terms in as few words as possible. What is the bare minimum effort required to transform a greedy pattern into a non-greedy one? What characters or characters can you introduce or change?"
   ]
  },
  {
   "cell_type": "markdown",
   "id": "60971933-a7f8-486f-8b52-7ffd0863dca7",
   "metadata": {},
   "source": [
    "Ans: The Main difference between Greedy and Non Greedy Match Syntax is The Greedy Match will try to match as many repetitions of the quantified pattern as possible Whereas The Non Greedy Match will try to match as few repetitions of the quantified pattern as possible"
   ]
  },
  {
   "cell_type": "code",
   "execution_count": 1,
   "id": "5aacce0c-83fb-4d1a-be02-9a3ea7c33bf7",
   "metadata": {},
   "outputs": [
    {
     "name": "stdout",
     "output_type": "stream",
     "text": [
      "['vvvvvv', '']\n",
      "['', 'v', '', 'v', '', 'v', '', 'v', '', 'v', '', 'v', '']\n"
     ]
    }
   ],
   "source": [
    "import re\n",
    "print(re.findall(\"v*\", \"vvvvvv\")) # Greedy Match Synatx\n",
    "print(re.findall(\"v*?\", \"vvvvvv\")) # Non Greddy Syntax"
   ]
  },
  {
   "cell_type": "raw",
   "id": "d67499d3-8a19-408e-b904-077daff7b27c",
   "metadata": {},
   "source": [
    "Q2. When exactly does greedy versus non-greedy make a difference? What if you're looking for a non-greedy match but the only one available is greedy?"
   ]
  },
  {
   "cell_type": "markdown",
   "id": "860d0366-a5bd-4a86-9e88-303ee87c6023",
   "metadata": {},
   "source": [
    "Ans: The Greedy Match will try to match as many repetitions of the quantified pattern as possible. The Non Greedy Match will try to match\n",
    "as few repetitions of the quantified pattern as possible. If only Non Greedy Match is available, we can use other filtering or pattern \n",
    "matching methods of regex and further identify the required pattern."
   ]
  },
  {
   "cell_type": "raw",
   "id": "fd75f3f7-8c17-4790-81bd-ef23ecc04ddf",
   "metadata": {},
   "source": [
    "Q3. In a simple match of a string, which looks only for one match and does not do any replacement, is the use of a nontagged group likely to make any practical difference?"
   ]
  },
  {
   "cell_type": "markdown",
   "id": "a011351b-dd0c-4423-b315-ba636e4c3519",
   "metadata": {},
   "source": [
    "Ans: In this Case The Non Tagged Group will not make any diffrence in this case.\n"
   ]
  },
  {
   "cell_type": "code",
   "execution_count": 2,
   "id": "fa4d0511-86ad-4c5f-8ce6-de99d3766440",
   "metadata": {},
   "outputs": [
    {
     "name": "stdout",
     "output_type": "stream",
     "text": [
      "Phone number found -> 234\n",
      "Phone number found -> 234\n"
     ]
    }
   ],
   "source": [
    "import re\n",
    "phoneNumRegex = re.compile(r'\\d\\d\\d')\n",
    "num = phoneNumRegex.search('My number is 234-567-8901.')\n",
    "print(f'Phone number found -> {num.group()}') # Non Tagged group\n",
    "print(f'Phone number found -> {num.group(0)}') # Tagged Group"
   ]
  },
  {
   "cell_type": "raw",
   "id": "e6555e29-2cee-401b-bb6d-f682a50a99ad",
   "metadata": {},
   "source": [
    "Q4. Describe a scenario in which using a nontagged category would have a significant impact on the program's outcomes ?\n"
   ]
  },
  {
   "cell_type": "markdown",
   "id": "2dd932e5-cc86-4c2c-bdc0-d8dcfd7a3a0e",
   "metadata": {},
   "source": [
    "Ans: Here in the below Code Snippet . decimal is not tagged or captured. It will useful in scenarios where the separator of value in a string is of no use and we need to capture only the values.\n"
   ]
  },
  {
   "cell_type": "code",
   "execution_count": 2,
   "id": "6f89f4dd-c3ca-43f6-aeb9-b7f33d97ab2c",
   "metadata": {},
   "outputs": [
    {
     "data": {
      "text/plain": [
       "('135', '456')"
      ]
     },
     "execution_count": 2,
     "metadata": {},
     "output_type": "execute_result"
    }
   ],
   "source": [
    "import re\n",
    "text='135.456'\n",
    "pattern=r'(\\d+)(?:.)(\\d+)'\n",
    "regobj=re.compile(pattern)\n",
    "matobj=regobj.search(text)\n",
    "matobj.groups()"
   ]
  },
  {
   "cell_type": "raw",
   "id": "76650403-6c7a-484f-be17-ea631c9c72c3",
   "metadata": {},
   "source": [
    "Q5. Unlike a normal regex pattern, a look-ahead condition does not consume the characters it examines. Describe a situation in which this could make a difference in the results of your programme ?"
   ]
  },
  {
   "cell_type": "markdown",
   "id": "77c85b8e-a72b-4b28-af91-2d52b43bf878",
   "metadata": {},
   "source": [
    "Ans: While counting the number of multiple lines or mutiple sentence in a string the positive look ahead makes a difference, without which we wont get the correct count of lines or sentences in a string."
   ]
  },
  {
   "cell_type": "raw",
   "id": "96f92db8-90ab-4aff-b1d4-9bcfa93f0adf",
   "metadata": {},
   "source": [
    "Q6. In standard expressions, what is the difference between positive look-ahead and negative look-ahead ?\n"
   ]
  },
  {
   "cell_type": "markdown",
   "id": "da689a61-58bf-4853-bbfb-cce0080f6919",
   "metadata": {},
   "source": [
    "Ans: Positive Lookahead allows to add a condition for what follows. Negative Lookahead is similar, but it looks behind. That is, it allows to match a pattern only if there’s something before it."
   ]
  },
  {
   "cell_type": "raw",
   "id": "07e65478-b25e-41fd-86f5-4d46d2314cd0",
   "metadata": {},
   "source": [
    "Q7. What is the benefit of referring to groups by name rather than by number in a standard expression?\n"
   ]
  },
  {
   "cell_type": "markdown",
   "id": "718fdf85-fab4-439c-abe6-3bd0db53a666",
   "metadata": {},
   "source": [
    "Ans: Referring to groups by name rather than by number in a standard expression helps to keep the code clear and easy to understand."
   ]
  },
  {
   "cell_type": "raw",
   "id": "8cd2b6e9-c9d2-4aa4-b509-858880e242c4",
   "metadata": {},
   "source": [
    "Q8. Can you identify repeated items within a target string using named groups, as in \"The cow jumped over the moon\"?\n"
   ]
  },
  {
   "cell_type": "code",
   "execution_count": 3,
   "id": "2f4d6d80-8ef2-4bf0-9336-31f102203ef7",
   "metadata": {},
   "outputs": [
    {
     "data": {
      "text/plain": [
       "['The', 'the']"
      ]
     },
     "execution_count": 3,
     "metadata": {},
     "output_type": "execute_result"
    }
   ],
   "source": [
    "import re\n",
    "text = \"The cow jumped over the moon\"\n",
    "regobj=re.compile(r'(?P<w1>The)',re.I)\n",
    "regobj.findall(text)\n",
    "['The', 'the']"
   ]
  },
  {
   "cell_type": "raw",
   "id": "81ce5ad0-57d3-412b-bf71-1d236df63c4d",
   "metadata": {},
   "source": [
    "Q9. When parsing a string, what is at least one thing that the Scanner interface does for you that the re.findall feature does not ?\n"
   ]
  },
  {
   "cell_type": "markdown",
   "id": "0775da46-1099-4878-a54b-272783ec00c9",
   "metadata": {},
   "source": [
    "Ans: re.findall() module is used to search for all occurrences that match a given pattern. In contrast, re.search() will only return the \n",
    "first occurrence that matches the specified pattern. re.findall() will iterate over all the lines of the file and will return all \n",
    "non-overlapping matches of pattern in a single step."
   ]
  },
  {
   "cell_type": "raw",
   "id": "1077a429-9b4c-4cfc-bb74-ad7b4615dc35",
   "metadata": {},
   "source": [
    "Q10. Does a scanner object have to be named scanner?\n"
   ]
  },
  {
   "cell_type": "markdown",
   "id": "5b1807ec-d3c8-4839-b5dc-c64e6038fe96",
   "metadata": {},
   "source": [
    "Ans: Yes, It may have any name."
   ]
  },
  {
   "cell_type": "code",
   "execution_count": null,
   "id": "5e9b3389-8c25-4692-8abd-60a704072644",
   "metadata": {},
   "outputs": [],
   "source": []
  },
  {
   "cell_type": "code",
   "execution_count": null,
   "id": "bf7f5f4f-2d7b-4b38-9406-5d96b684e7f5",
   "metadata": {},
   "outputs": [],
   "source": []
  },
  {
   "cell_type": "code",
   "execution_count": null,
   "id": "254d8cc0-6cdd-400d-8bb6-7bf4883f8df8",
   "metadata": {},
   "outputs": [],
   "source": []
  }
 ],
 "metadata": {
  "kernelspec": {
   "display_name": "Python 3 (ipykernel)",
   "language": "python",
   "name": "python3"
  },
  "language_info": {
   "codemirror_mode": {
    "name": "ipython",
    "version": 3
   },
   "file_extension": ".py",
   "mimetype": "text/x-python",
   "name": "python",
   "nbconvert_exporter": "python",
   "pygments_lexer": "ipython3",
   "version": "3.10.6"
  }
 },
 "nbformat": 4,
 "nbformat_minor": 5
}
