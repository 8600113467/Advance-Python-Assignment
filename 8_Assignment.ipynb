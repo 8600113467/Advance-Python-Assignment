{
 "cells": [
  {
   "cell_type": "markdown",
   "id": "8f76fe4d-eea4-4f86-91fe-342a49ad201a",
   "metadata": {},
   "source": [
    "## Advance Python Assignment No.8"
   ]
  },
  {
   "cell_type": "raw",
   "id": "dc9261fa-9a4b-45df-8a5a-16fe5091b9b7",
   "metadata": {},
   "source": [
    "Q1. What are the two latest user-defined exception constraints in Python 3.X?\n",
    "Q2. How are class-based exceptions that have been raised matched to handlers?\n",
    "Q3. Describe two methods for attaching context information to exception artefacts.\n",
    "Q4. Describe two methods for specifying the text of an exception object's error message.\n",
    "Q5. Why do you no longer use string-based exceptions?"
   ]
  },
  {
   "cell_type": "markdown",
   "id": "3f2aed3b-5a16-42d3-825f-3dbb1cdc10a3",
   "metadata": {},
   "source": [
    "Q1. What are the two latest user-defined exception constraints in Python 3.X?   "
   ]
  },
  {
   "cell_type": "markdown",
   "id": "8c0188d0-a367-48d5-a90b-1e45b9d3a6bc",
   "metadata": {},
   "source": [
    "**ANS** \n",
    "following are two example of user defined exceptions :\n",
    "**Custom Exception Classes:** Python allows you to create your own exception classes by inheriting from the built-in Exception class or one of its subclasses. You can define custom exception classes to handle specific error conditions in your code.\n",
    "You can then raise and catch instances of your custom exception class to handle errors in a more meaningful way.\n",
    "\n",
    "**Exception Handling with try and except:** Python allows you to use the try and except blocks to catch and handle exceptions. This is a fundamental way to handle exceptions in Python. For example:\n",
    "\n",
    "It's important to note that Python's development is ongoing, and new features and changes are introduced in each new version. To find the very latest user-defined exception constraints in Python, you should refer to the official Python documentation or release notes for the specific version you are using or planning to use."
   ]
  },
  {
   "cell_type": "markdown",
   "id": "fe3759da-ffca-4570-b4ef-dac58099bec5",
   "metadata": {},
   "source": [
    "Q2. How are class-based exceptions that have been raised matched to handlers?\n",
    "\n",
    "**ANS:** In Python, when an exception is raised (either a built-in exception or a custom exception class), the Python interpreter searches for an appropriate exception handler to process the exception. The matching process is based on the following criteria:\n",
    "\n",
    "The type of the raised exception: Python compares the type of the raised exception (the exception class) with the types specified in the except clauses of try-except blocks. It tries to find the first except block whose exception type matches the raised exception or a base class of it.\n",
    "\n",
    "The order of except clauses: Python evaluates except clauses from top to bottom. The first matching except block encountered is the one that will handle the exception. This is why it's important to order your except clauses from the most specific (subclasses) to the most general (base classes) to ensure that the correct handler is chosen.\n",
    "\n",
    "Here's an example"
   ]
  },
  {
   "cell_type": "code",
   "execution_count": null,
   "id": "ce53c04d-4752-43ec-ad41-53b99df07794",
   "metadata": {},
   "outputs": [],
   "source": [
    "try:\n",
    "    # Code that may raise an exception\n",
    "    result = 10 / 0\n",
    "except ZeroDivisionError:\n",
    "    print(\"ZeroDivisionError occurred\")\n",
    "except ArithmeticError:\n",
    "    print(\"ArithmeticError occurred\")"
   ]
  },
  {
   "cell_type": "markdown",
   "id": "33bbf480-2f14-4720-a812-d5d96796bc62",
   "metadata": {},
   "source": [
    "Q3. Describe two methods for attaching context information to exception artifacts.\n",
    "\n",
    "**ANS:** Attaching context information to exceptions can be useful for debugging and providing additional information about the error. Two common methods for attaching context information are:\n",
    "\n",
    "### Method 1\n",
    "Exception Arguments: When raising an exception, you can pass additional information as arguments to the exception constructor. For example:\n",
    "try:\n",
    "    x = 10 / 0\n",
    "except ZeroDivisionError as e:\n",
    "    raise ZeroDivisionError(\"Division by zero occurred with x = 10\") from e\n",
    "In this example, the from clause attaches the original exception (e) as context information to the new exception. This allows you to see the original error message and traceback along with the new exception.\n",
    "\n",
    "### Method 2\n",
    "Custom Exception Attributes: You can create custom exception classes that include attributes to hold context information. For example:\n"
   ]
  },
  {
   "cell_type": "code",
   "execution_count": null,
   "id": "5262b6a9-cdba-40de-80dc-35fdd62f09a4",
   "metadata": {},
   "outputs": [],
   "source": [
    "# method 1\n",
    "try:\n",
    "    # Code that may raise an exception\n",
    "    result = 10 / 0\n",
    "except ZeroDivisionError:\n",
    "    print(\"ZeroDivisionError occurred\")\n",
    "except ArithmeticError:\n",
    "    print(\"ArithmeticError occurred\")"
   ]
  },
  {
   "cell_type": "code",
   "execution_count": null,
   "id": "4517083f-6c08-42d4-8b28-0a2d52d0f2aa",
   "metadata": {},
   "outputs": [],
   "source": [
    "#method 2\n",
    "class CustomError(Exception):\n",
    "    def __init__(self, message, context_data):\n",
    "        super().__init__(message)\n",
    "        self.context_data = context_data\n",
    "try:\n",
    "    # Some code that may raise a custom exception\n",
    "    raise CustomError(\"An error occurred\", {\"key\": \"value\"})\n",
    "except CustomError as e:\n",
    "    print(f\"CustomError: {e}, Context: {e.context_data}\")"
   ]
  },
  {
   "cell_type": "markdown",
   "id": "ed69c184-6802-4e98-a4bf-70b394aab100",
   "metadata": {
    "tags": []
   },
   "source": [
    "Q4. Describe two methods for specifying the text of an exception object's error message.\n",
    "\n",
    "**ANS:** You can specify the text of an exception object's error message using the following methods:\n",
    "\n",
    "Exception Constructor: When raising an exception, you can pass an error message as an argument to the exception constructor.\n",
    "\n",
    "Custom Exception Classes: You can create custom exception classes that define their own error messages. When defining the __init__ method of your custom exception class, you can set an instance variable to hold the error message.\n"
   ]
  },
  {
   "cell_type": "markdown",
   "id": "58498da3-3001-46b7-bb04-824f556ebf6b",
   "metadata": {},
   "source": [
    "Q5. Why do you no longer use string-based exceptions?\n",
    "\n",
    "**ANS:** In modern Python programming, it is recommended not to use string-based exceptions for several reasons:\n",
    "\n",
    "Lack of Clarity: String-based exceptions are less clear and informative than exception classes. When you use a string to represent an exception, it doesn't provide any structured information about the nature of the error, making it difficult to understand the cause of the problem.\n",
    "\n",
    "Limited Exception Handling: String-based exceptions make it challenging to handle exceptions effectively because you can't use the exception's type to differentiate between different types of errors. This limits your ability to implement specific error-handling logic for different situations.\n",
    "\n",
    "Incompatibility: String-based exceptions are considered outdated and are not compatible with modern exception handling mechanisms in Python, such as try-except blocks with exception classes or custom exception hierarchies.\n",
    "\n",
    "To improve code readability, maintainability, and robustness, it is recommended to use exception classes (either built-in or custom) to represent and handle exceptions in Python. This approach allows you to provide clear and structured information about the error and enables more precise error handling."
   ]
  },
  {
   "cell_type": "code",
   "execution_count": null,
   "id": "b6bd2243-778e-44a3-8d91-55a15be82e92",
   "metadata": {},
   "outputs": [],
   "source": []
  },
  {
   "cell_type": "code",
   "execution_count": null,
   "id": "7d2a107a-76a7-4a45-bad3-128fd15c8dae",
   "metadata": {},
   "outputs": [],
   "source": []
  },
  {
   "cell_type": "code",
   "execution_count": null,
   "id": "78e7ab5a-e770-4b7e-b54e-7abb3d8d4a07",
   "metadata": {},
   "outputs": [],
   "source": []
  },
  {
   "cell_type": "code",
   "execution_count": null,
   "id": "8d09d484-6f9a-4c68-876d-073f33c8a9ce",
   "metadata": {},
   "outputs": [],
   "source": []
  }
 ],
 "metadata": {
  "kernelspec": {
   "display_name": "Python 3 (ipykernel)",
   "language": "python",
   "name": "python3"
  },
  "language_info": {
   "codemirror_mode": {
    "name": "ipython",
    "version": 3
   },
   "file_extension": ".py",
   "mimetype": "text/x-python",
   "name": "python",
   "nbconvert_exporter": "python",
   "pygments_lexer": "ipython3",
   "version": "3.10.6"
  }
 },
 "nbformat": 4,
 "nbformat_minor": 5
}
