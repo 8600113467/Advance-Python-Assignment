{
 "cells": [
  {
   "cell_type": "markdown",
   "id": "5f8b3ae7-f8bb-4676-b40f-efcb7d5af7f4",
   "metadata": {},
   "source": [
    "## Advance Python Assignment No.10"
   ]
  },
  {
   "cell_type": "raw",
   "id": "6c8f005e-3825-43e9-84ee-d36999ec2903",
   "metadata": {},
   "source": [
    "Q1. What is the difference between __getattr__ and __getattribute__?\n",
    "\n",
    "Q2. What is the difference between properties and descriptors?\n",
    "\n",
    "Q3. What are the key differences in functionality between __getattr__ and __getattribute__, as well as\n",
    "properties and descriptors?"
   ]
  },
  {
   "cell_type": "markdown",
   "id": "503ae075-543b-4554-9290-d86288ae93c5",
   "metadata": {},
   "source": [
    "Q1. What is the difference between __getattr__ and __getattribute__?\n",
    "\n",
    "**ANS:** __getattr__: This is a special method in Python that is called when an attempt is made to access an attribute that doesn't exist on an object. It takes the name of the attribute as an argument and allows you to define custom behavior for attribute access. __getattr__ is only called when the requested attribute is not found through regular attribute lookup.\n",
    "\n",
    "__getattribute__: This is another special method that is called for every attribute access on an object, whether the attribute exists or not. It is called before the regular attribute lookup. You can use __getattribute__ to intercept all attribute access and customize behavior based on the attribute name. Be cautious when using __getattribute__ because it can lead to infinite recursion if not used carefully."
   ]
  },
  {
   "cell_type": "markdown",
   "id": "3e2fd5cc-1744-4ddd-9c5a-69e4ad477679",
   "metadata": {},
   "source": [
    "Q2. What is the difference between properties and descriptors?\n",
    "\n",
    "**ANS:** \n",
    "\n",
    "**Properties:** Properties are a Python feature that allows you to define methods that act like attributes. They use the @property decorator to define a method as a getter, and you can use the @property_name.setter decorator to define a method as a setter. Properties are typically used for computed or calculated attributes and provide a clean interface for getting and setting values.\n",
    "\n",
    "**Descriptors:** Descriptors are a more general mechanism for customizing attribute access. A descriptor is an object that defines one or more of the special methods like __get__, __set__, and __delete__. Descriptors can be used for more complex behaviors than properties and can be reused across multiple classes."
   ]
  },
  {
   "cell_type": "markdown",
   "id": "61207733-d6e1-469f-8427-714a424cb6bd",
   "metadata": {},
   "source": [
    "Q3. What are the key differences in functionality between __getattr__ and __getattribute__, as well as properties and descriptors?\n",
    "\n",
    "**ANS:**\n",
    "\n",
    "**__getattr__ vs. __getattribute__:**\n",
    "__getattr__ is only called when an attribute is not found through regular attribute lookup. It's a fallback mechanism for handling missing attributes.\n",
    "__getattribute__ is called for all attribute access, whether the attribute exists or not. It allows you to intercept and customize all attribute access, making it more powerful but also potentially more error-prone.\n",
    "\n",
    "**Properties vs. Descriptors:**\n",
    "Properties are a high-level way to define getter and setter methods for attributes. They are defined using decorators like @property and @property_name.setter.\n",
    "Descriptors provide lower-level control over attribute access by implementing the __get__, __set__, and __delete__ methods. They are typically used when you need more advanced behaviors beyond simple getters and setters.\n",
    "Properties are often used for simple computed attributes and provide a clean syntax for attribute access. Descriptors are more suitable for complex attribute management, such as caching, validation, or lazy loading.\n",
    "Properties are bound to the class, so all instances of the class share the same property methods. Descriptors can be used to create instance-specific behavior.\n",
    "In summary, __getattr__ and __getattribute__ are methods that control attribute access at different levels, while properties and descriptors provide mechanisms for customizing attribute access with varying degrees of control and complexity. The choice between them depends on your specific use case and the level of customization you require for attribute access in your code"
   ]
  },
  {
   "cell_type": "code",
   "execution_count": null,
   "id": "86d2fb4e-1a66-4c64-a559-a808abe574b2",
   "metadata": {},
   "outputs": [],
   "source": []
  }
 ],
 "metadata": {
  "kernelspec": {
   "display_name": "Python 3 (ipykernel)",
   "language": "python",
   "name": "python3"
  },
  "language_info": {
   "codemirror_mode": {
    "name": "ipython",
    "version": 3
   },
   "file_extension": ".py",
   "mimetype": "text/x-python",
   "name": "python",
   "nbconvert_exporter": "python",
   "pygments_lexer": "ipython3",
   "version": "3.10.6"
  }
 },
 "nbformat": 4,
 "nbformat_minor": 5
}
