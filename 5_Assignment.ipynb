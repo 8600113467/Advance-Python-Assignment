{
 "cells": [
  {
   "cell_type": "markdown",
   "id": "e2da359e-e9ee-4727-ba11-6552de883b26",
   "metadata": {},
   "source": [
    "## Advance Python Assignment No.5"
   ]
  },
  {
   "cell_type": "raw",
   "id": "48c08492-f55b-4096-b066-eaeace3a355b",
   "metadata": {},
   "source": [
    "Q1. What is the meaning of multiple inheritance?\n",
    "Q2. What is the concept of delegation?\n",
    "Q3. What is the concept of composition?\n",
    "Q4. What are bound methods and how do we use them?\n",
    "Q5. What is the purpose of pseudoprivate attributes?"
   ]
  },
  {
   "cell_type": "markdown",
   "id": "e6646315-f076-48c8-8a3f-7b1b100157d7",
   "metadata": {},
   "source": [
    "Q1. What is the meaning of multiple inheritance?\n",
    "\n",
    "**ANS:** Multiple inheritance is a concept in object-oriented programming (OOP) where a class can inherit attributes and methods from more than one parent class. This means that a subclass can have multiple superclasses. In languages that support multiple inheritance, a class can inherit the properties and behaviors of multiple classes simultaneously. \n",
    "This can lead to complex relationships and potential issues like the diamond problem, which occurs when a class inherits from two classes that have a common ancestor. Some programming languages, like Python, support multiple inheritance, while others,like Java, do not allow it directly."
   ]
  },
  {
   "cell_type": "markdown",
   "id": "77fb130d-c582-499f-9920-16a1d876e583",
   "metadata": {},
   "source": [
    "Q2. What is the concept of delegation?\n",
    "\n",
    "**ANS:** Delegation is a design principle in object-oriented programming (OOP) where one object (the delegating object) passes the responsibility for performing a particular task to another object (the delegate object). This allows for code reuse and the separation of concerns. Instead of implementing the task directly, the delegating object forwards the task to the delegate object, which then carries out the task. Delegation is often used to create flexible and maintainable code by allowing objects to collaborate and share responsibilities."
   ]
  },
  {
   "cell_type": "markdown",
   "id": "a316a5f0-5800-434a-8268-c1b9e80cb85a",
   "metadata": {},
   "source": [
    "Q3. What is the concept of composition?\n",
    "\n",
    "**ANS:** Composition is a design principle in object-oriented programming (OOP) where an object is composed of one or more other objects. It is a way of creating complex objects by combining simpler objects or components. Composition allows you to build more flexible and reusable code by assembling objects in a modular fashion. This is in contrast to inheritance, where objects are created by inheriting properties and behaviors from parent classes. Composition promotes the \"has-a\" relationship, where an object \"has\" other objects as its components, rather than the \"is-a\" relationship used in inheritance."
   ]
  },
  {
   "cell_type": "markdown",
   "id": "9291f06e-57fe-4ffe-a723-cdc6796118c0",
   "metadata": {},
   "source": [
    "Q4. What are bound methods and how do we use them?\n",
    "\n",
    "**ANS:** In Python, a bound method is a method that is associated with an instance of a class. When you call a method on an instance, it becomes a bound method because it is bound to that specific instance, and it can access and operate on the instance's data. Bound methods automatically receive the instance itself as the first argument, conventionally named self, which allows them to work with the instance's attributes and perform operations based on the instance's state.\n",
    "\n",
    "Here's an example of using a bound method in Python:\n"
   ]
  },
  {
   "cell_type": "code",
   "execution_count": 1,
   "id": "79eceef4-a9b1-4cdc-ac27-d9c861ee9fd6",
   "metadata": {},
   "outputs": [
    {
     "name": "stdout",
     "output_type": "stream",
     "text": [
      "42\n"
     ]
    }
   ],
   "source": [
    "class MyClass:\n",
    "    def __init__(self, value):\n",
    "        self.value = value\n",
    "\n",
    "    def print_value(self):\n",
    "        print(self.value)\n",
    "\n",
    "# Creating an instance of MyClass\n",
    "obj = MyClass(42)\n",
    "\n",
    "# Calling the bound method\n",
    "obj.print_value() "
   ]
  },
  {
   "cell_type": "markdown",
   "id": "0304f4e2-983f-4359-860f-d310ac18f7ba",
   "metadata": {},
   "source": [
    "Q5. What is the purpose of pseudoprivate attributes?\n",
    "\n",
    "**ANS:** Pseudoprivate attributes in Python are a naming convention used to make instance variables or attributes \"private\" in a way that discourages accidental or unauthorized access from outside the class. Unlike some programming languages, Python does not have strict access control mechanisms like private or protected keywords. Instead, it relies on a naming convention to indicate that an attribute should not be accessed directly.\n",
    "\n",
    "In Python, an attribute with a double underscore prefix (e.g., __attribute) is considered pseudoprivate. These attributes are still accessible, but their names are \"mangled\" to make them less likely to be accidentally overridden by subclasses or accessed from outside the class. For example, if you have a pseudoprivate attribute __value in a class called MyClass,it will be stored as _MyClass__value.\n",
    "\n",
    "The purpose of pseudoprivate attributes is to encapsulate data within a class and reduce the risk of unintended interference from external code. However, it's important to note that this is more of a convention than a strict access control mechanism, and Python programmers are trusted to follow the convention to respect the privacy of such attributes."
   ]
  },
  {
   "cell_type": "code",
   "execution_count": null,
   "id": "f56ee47a-a57c-4385-b637-e557861a720c",
   "metadata": {},
   "outputs": [],
   "source": []
  },
  {
   "cell_type": "code",
   "execution_count": null,
   "id": "869bdbd6-7fec-4c58-b217-42e68420ffef",
   "metadata": {},
   "outputs": [],
   "source": []
  },
  {
   "cell_type": "code",
   "execution_count": null,
   "id": "afbee785-376d-46c2-aa02-67eb68ebe84f",
   "metadata": {},
   "outputs": [],
   "source": []
  },
  {
   "cell_type": "code",
   "execution_count": null,
   "id": "72dcc072-5d88-4772-a974-0a6daaac5a62",
   "metadata": {},
   "outputs": [],
   "source": []
  },
  {
   "cell_type": "code",
   "execution_count": null,
   "id": "9a2b2d9a-c621-491b-9ce1-9246ad4802e9",
   "metadata": {},
   "outputs": [],
   "source": []
  }
 ],
 "metadata": {
  "kernelspec": {
   "display_name": "Python 3 (ipykernel)",
   "language": "python",
   "name": "python3"
  },
  "language_info": {
   "codemirror_mode": {
    "name": "ipython",
    "version": 3
   },
   "file_extension": ".py",
   "mimetype": "text/x-python",
   "name": "python",
   "nbconvert_exporter": "python",
   "pygments_lexer": "ipython3",
   "version": "3.10.6"
  }
 },
 "nbformat": 4,
 "nbformat_minor": 5
}
