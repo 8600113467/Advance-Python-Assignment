{
 "cells": [
  {
   "cell_type": "markdown",
   "id": "06e60e1f-ff97-4f75-a423-000f7b0d4e4f",
   "metadata": {},
   "source": [
    "\n",
    "## Advance Python Assignment no.3"
   ]
  },
  {
   "cell_type": "markdown",
   "id": "3cb4bd11-6ed2-4eab-9570-3b36417f9535",
   "metadata": {},
   "source": [
    "1. What is the concept of an abstract superclass?\n",
    "2. What happens when a class statement's top level contains a basic assignment statement?\n",
    "3. Why does a class need to manually call a superclass's __init__ method?\n",
    "4. How can you augment, instead of completely replacing, an inherited method?\n",
    "5. How is the local scope of a class different from that of a function?"
   ]
  },
  {
   "cell_type": "markdown",
   "id": "6604cd23-670c-41ff-b7e9-1f2d7402dbe2",
   "metadata": {},
   "source": [
    "1.What is the concept of an abstract superclass?\n",
    "\n",
    "**ANS:** An abstract superclass is a class in Object-Oriented Programming (OOP) that is designed to be a blueprint or template for other classes but is not meant to be instantiated itself.It often contains common attributes and methods that are shared by multiple subclasses.Abstract superclasses may include methods that are meant to be overridden by subclasses, providing a common interface that derived classes must implement.In Python, you can create an abstract superclass by using the ABC (Abstract Base Class)module and defining abstract methods using the @abstractmethod decorator. Subclasses of an abstract superclass must implement these abstract methods."
   ]
  },
  {
   "cell_type": "markdown",
   "id": "ce069f8c-3356-4ac3-9748-179753c525fd",
   "metadata": {},
   "source": [
    "2.What happens when a class statement's top level contains a basic assignment statement?\n",
    "\n",
    "**ANS:** When a class statement's top level contains a basic assignment statement (an assignment outside of any method), it defines a class-level attribute.\n",
    "This class-level attribute is shared among all instances of the class, and it can be accessed using both the class name and instance name.\n",
    "Class-level attributes are initialized only once, typically when the class is defined, and their values are shared across all instances of the class."
   ]
  },
  {
   "cell_type": "markdown",
   "id": "5fa25c81-5616-43c0-be6a-cac85342e302",
   "metadata": {},
   "source": [
    "3.Why does a class need to manually call a superclass's init method?\n",
    "\n",
    "**ANS:** In Python, when a subclass defines its __init__ method, it does not automatically call the __init__ method of its superclass. \n",
    "You need to explicitly call the superclass's __init__ method if you want to initialize the attributes and behavior inherited from the superclass.You can call the superclass's __init__ method using super().__init__() within the subclass's __init__ method.\n",
    "This ensures that the superclass's initialization logic is executed before adding any subclass-specific behavior."
   ]
  },
  {
   "cell_type": "markdown",
   "id": "b4389297-3c75-471f-b98f-8715382380f6",
   "metadata": {},
   "source": [
    "4.How can you augment, instead of completely replacing, an inherited method?\n",
    "\n",
    "**ANS:** To augment (extend or add to) an inherited method without completely replacing it, you can follow these steps:\n",
    "In the subclass, define a method with the same name as the method you want to extend (override).\n",
    "Inside the subclass method, use super() to call the superclass's method. This allows you to execute the original behavior.\n",
    "After calling super(), add the additional behavior or modifications specific to the subclass."
   ]
  },
  {
   "cell_type": "code",
   "execution_count": 1,
   "id": "cbac8664-eae1-4330-b942-d29c8382ded0",
   "metadata": {},
   "outputs": [
    {
     "name": "stdout",
     "output_type": "stream",
     "text": [
      "BaseClass method\n",
      "SubClass method\n"
     ]
    }
   ],
   "source": [
    "# Example:\n",
    "class BaseClass:\n",
    "    def method(self):\n",
    "        print(\"BaseClass method\")\n",
    "\n",
    "class SubClass(BaseClass):\n",
    "    def method(self):\n",
    "        super().method()  # Call the superclass's method\n",
    "        print(\"SubClass method\")\n",
    "\n",
    "obj = SubClass()\n",
    "obj.method()"
   ]
  },
  {
   "cell_type": "markdown",
   "id": "5502190d-8507-4382-9f5b-275f65bf7aa2",
   "metadata": {},
   "source": [
    "5.How is the local scope of a class different from that of a function?\n",
    "\n",
    "**ANS:** In Python, the local scope of a class (inside a class definition) and the local scope of a function (inside a function definition)are similar in that both have their own namespaces for variables, and they follow the LEGB (Local, Enclosing, Global, Built-in) scope resolution order.However, there are some key differences:\n",
    "\n",
    "Instance Attributes: Inside a class, variables defined as attributes (using self) are associated with instances of the class.They are accessible from instance methods and store instance-specific data.\n",
    "\n",
    "Class Attributes: Variables defined at the class level (outside of methods) are class-level attributes. They are shared among all instances of the class and are accessed using the class name.\n",
    "\n",
    "Methods: Functions defined inside a class are methods. They are called on instances of the class and have access to instance attributes and class attributes.\n",
    "\n",
    "Function Scopes: In contrast, functions defined outside of a class do not have access to class-specific attributes or methods unless they are passed as arguments."
   ]
  },
  {
   "cell_type": "code",
   "execution_count": null,
   "id": "c0b7f0ce-7e41-42f4-abf1-61a455c772d3",
   "metadata": {},
   "outputs": [],
   "source": []
  },
  {
   "cell_type": "code",
   "execution_count": null,
   "id": "58dd7ba3-6043-498d-9707-7f22cbd54f81",
   "metadata": {},
   "outputs": [],
   "source": []
  }
 ],
 "metadata": {
  "kernelspec": {
   "display_name": "Python 3 (ipykernel)",
   "language": "python",
   "name": "python3"
  },
  "language_info": {
   "codemirror_mode": {
    "name": "ipython",
    "version": 3
   },
   "file_extension": ".py",
   "mimetype": "text/x-python",
   "name": "python",
   "nbconvert_exporter": "python",
   "pygments_lexer": "ipython3",
   "version": "3.10.6"
  }
 },
 "nbformat": 4,
 "nbformat_minor": 5
}
