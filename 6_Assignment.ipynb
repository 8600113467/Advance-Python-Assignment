{
 "cells": [
  {
   "cell_type": "markdown",
   "id": "3a41970c-a111-4249-81ac-57692a067a2b",
   "metadata": {},
   "source": [
    "## Advance Python Assignment No.6"
   ]
  },
  {
   "cell_type": "raw",
   "id": "793679e3-1818-4b0d-a365-896e11c8f4f6",
   "metadata": {},
   "source": [
    "Q1. Describe three applications for exception processing.\n",
    "\n",
    "Q2. What happens if you don't do something extra to treat an exception?\n",
    "\n",
    "Q3. What are your options for recovering from an exception in your script?\n",
    "\n",
    "Q4. Describe two methods for triggering exceptions in your script.\n",
    "\n",
    "Q5. Identify two methods for specifying actions to be executed at termination time, regardless of\n",
    "whether or not an exception exists."
   ]
  },
  {
   "cell_type": "markdown",
   "id": "51b8c31c-c167-419c-b373-b9fee6abbeae",
   "metadata": {},
   "source": [
    "Q1. Describe three applications for exception processing:\n",
    "\n",
    "**ans:**\n",
    "Error Handling: Exceptions are commonly used to handle errors gracefully in software applications. When something unexpected or erroneous occurs, an exception can be raised to prevent the program from crashing and to provide a mechanism for handling and reporting the error.\n",
    "\n",
    "Resource Cleanup: Exceptions can be used to ensure that resources like files, network connections, or database connections are properly closed and released, even in the presence of errors. This is often achieved using the \"finally\" block in exception handling.\n",
    "\n",
    "Custom Application Logic: Exception processing can also be used for controlling the flow of a program. Custom exceptions can be raised in specific situations to implement specific logic or to signal specific conditions that need special handling."
   ]
  },
  {
   "cell_type": "markdown",
   "id": "650f6d4f-0603-4b21-964c-162dd8730f1a",
   "metadata": {},
   "source": [
    "Q2. What happens if you don't do something extra to treat an exception?\n",
    "\n",
    "**ANS:**\n",
    "If you don't handle an exception in your code, it will propagate up the call stack until it's either caught and handled by an appropriate exception handler or until it reaches the top-level of the program. \n",
    "If it reaches the top-level without being caught, it will typically result in the program terminating abnormally, displaying an error message, and potentially leaving any open resources (e.g., files, sockets) unclosed.\n"
   ]
  },
  {
   "cell_type": "markdown",
   "id": "20ee4298-a659-4fa9-874e-b4f4acae551c",
   "metadata": {},
   "source": [
    "Q3. What are your options for recovering from an exception in your script?\n",
    "\n",
    "**ANS:**\n",
    "There are several options for recovering from an exception in your script:\n",
    "\n",
    "Catch and Handle: You can use a try-except block to catch the exception and handle it gracefully, which may involve logging the error, providing an alternative action, or allowing the program to continue running.\n",
    "\n",
    "Raise a Different Exception: You can catch an exception and then raise a different exception with more context or information, allowing for more specific error handling.\n",
    "\n",
    "Retry: Depending on the nature of the exception, you can implement retry logic to attempt the operation again, perhaps after a delay or with different parameters.\n",
    "\n",
    "Graceful Termination:In some cases, it might be appropriate to gracefully terminate the program after logging the exception or saving state."
   ]
  },
  {
   "cell_type": "markdown",
   "id": "3118954a-6d24-408f-b80b-ba078225047f",
   "metadata": {},
   "source": [
    "Q4. Describe two methods for triggering exceptions in your script?\n",
    "\n",
    "**ANS:** Explicitly Raising an Exception: You can raise an exception explicitly using the raise keyword in Python (or a similar construct in other languages). For example, raise ValueError(\"This is a custom exception message\") will raise a ValueError exception with a specified error message.\n",
    "\n",
    "Handling Unexpected Input: When dealing with user input or external data, you might encounter unexpected values or conditions that should trigger an exception. You can use conditional statements to check for these conditions and raise exceptions accordingly."
   ]
  },
  {
   "cell_type": "markdown",
   "id": "157d31a3-3300-45c0-9e93-3941cf6b3111",
   "metadata": {},
   "source": [
    "Q5. Identify two methods for specifying actions to be executed at termination time, regardless of whether or not an exception exists:\n",
    "\n",
    "**ANS:** Using a Finally Block: In many programming languages, including Python, you can use a \"finally\" block in conjunction with a try-except block. Code in the \"finally\" block is executed whether or not an exception is raised, making it suitable for cleanup tasks like closing files, releasing resources, or finalizing operations.\n",
    "\n",
    "Using Resource Management Tools: Some programming languages and libraries provide resource management tools that automatically handle cleanup at the end of a scope, regardless of exceptions. For example, in Python, you can use the with statement and context managers to ensure resources are properly managed and cleaned up when they go out of scope."
   ]
  },
  {
   "cell_type": "code",
   "execution_count": null,
   "id": "2c8ea0e4-ede0-42a7-a5d8-7fdfa9f79d72",
   "metadata": {},
   "outputs": [],
   "source": []
  }
 ],
 "metadata": {
  "kernelspec": {
   "display_name": "Python 3 (ipykernel)",
   "language": "python",
   "name": "python3"
  },
  "language_info": {
   "codemirror_mode": {
    "name": "ipython",
    "version": 3
   },
   "file_extension": ".py",
   "mimetype": "text/x-python",
   "name": "python",
   "nbconvert_exporter": "python",
   "pygments_lexer": "ipython3",
   "version": "3.10.6"
  }
 },
 "nbformat": 4,
 "nbformat_minor": 5
}
