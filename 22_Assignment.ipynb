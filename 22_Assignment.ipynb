{
 "cells": [
  {
   "cell_type": "markdown",
   "id": "fe4b4e34-431d-4da6-bc74-d4c961de41a2",
   "metadata": {},
   "source": [
    "## Advance Python Assignment No.22"
   ]
  },
  {
   "cell_type": "raw",
   "id": "53bd6efe-aaf8-4ddf-a960-2c4ae8798618",
   "metadata": {},
   "source": [
    "Q1. What are the benefits of the built-in array package, if any?\n",
    "Q2. What are some of the array package's limitations?\n",
    "Q3. Describe the main differences between the array and numpy packages.\n",
    "Q4. Explain the distinctions between the empty, ones, and zeros functions.\n",
    "Q5. In the fromfunction function, which is used to construct new arrays, what is the role of the callable argument?\n",
    "Q6. What happens when a numpy array is combined with a single-value operand (a scalar, such as an int or a floating-point value) through addition, as in the expression A + n?\n",
    "Q7. Can array-to-scalar operations use combined operation-assign operators (such as += or *=)? What is the outcome?\n",
    "Q8. Does a numpy array contain fixed-length strings? What happens if you allocate a longer string to one of these arrays?\n",
    "Q9. What happens when you combine two numpy arrays using an operation like addition (+) or multiplication (*)? What are the conditions for combining two numpy arrays?\n",
    "Q10. What is the best way to use a Boolean array to mask another array?\n",
    "Q11. What are three different ways to get the standard deviation of a wide collection of data using both standard Python and its packages? Sort the three of them by how quickly they execute.\n",
    "12. What is the dimensionality of a Boolean mask-generated array?"
   ]
  },
  {
   "cell_type": "raw",
   "id": "fbc3c534-a96b-4ad6-b043-fbb69d20e669",
   "metadata": {},
   "source": [
    "Q1. What are the benefits of the built-in array package, if any?"
   ]
  },
  {
   "cell_type": "markdown",
   "id": "c2230425-144c-4e44-a4ce-29fca7b5a122",
   "metadata": {},
   "source": [
    "Ans: Arrays represent multiple data items of the same type using a single name. In arrays, the elements can be accessed randomly by using the index number. Arrays allocate memory in contiguous memory locations for all its elements. Hence there is no chance of extra memory being allocated in case of arrays. This avoids memory overflow or shortage of memory in arrays.\n"
   ]
  },
  {
   "cell_type": "raw",
   "id": "11ad235c-ed08-4b67-a5c9-25d007580f18",
   "metadata": {},
   "source": [
    "Q2. What are some of the array package's limitations ?\n"
   ]
  },
  {
   "cell_type": "markdown",
   "id": "db931c0a-9c9e-43a8-861b-d384268ae820",
   "metadata": {},
   "source": [
    "Ans: The number of elements to be stored in an array should be known in advance. An array is a static structure (which means the array is of fixed size). Once declared the size of the array cannot be modified. The memory which is allocated to it cannot be increased or decreased.\n",
    "\n",
    "Insertion and deletion are quite difficult in an array as the elements are stored in consecutive memory locations and the shifting operation is costly.\n",
    "\n",
    "Allocating more memory than the requirement leads to wastage of memory space and less allocation of memory also leads to a problem\n"
   ]
  },
  {
   "cell_type": "raw",
   "id": "ba3de858-02ae-4c22-9b54-e855370aeff3",
   "metadata": {},
   "source": [
    "Q3. Describe the main differences between the array and numpy packages ?\n"
   ]
  },
  {
   "cell_type": "markdown",
   "id": "468539a6-5c7d-40f0-8d67-1fa6c47d4d46",
   "metadata": {},
   "source": [
    "Ans: The array package doesn't provide any help with numerical calculation with the items insdie it in number form while NumPy give you a wide variety of numerical operations.\n",
    "\n",
    "An array is a single dimensional entity which hold the numerical data, while numpy can have more than 1 dimension.\n",
    "\n",
    "In case of array, item can be accessed by its index position and it is easy task while in numpy item is accessed by its column and row index, which makes it slightly time taking. Same goes with appending operation.\n",
    "\n",
    "In case of array we do not form a tabular structure, while in numpy it forms a tabular structure\n"
   ]
  },
  {
   "cell_type": "raw",
   "id": "a56aa1e9-136a-4822-93d3-d1155244c3ae",
   "metadata": {},
   "source": [
    "Q4. Explain the distinctions between the empty, ones, and zeros functions ?\n"
   ]
  },
  {
   "cell_type": "markdown",
   "id": "fd377de8-4425-4c35-a49d-c0652f2823ca",
   "metadata": {},
   "source": [
    "Ans: The distinctions between the empty, ones, and zero functions are as follows :\n",
    "\n",
    "Empty function: An empty function is a function that does not contain any statement within its body. If you try to write a function definition without any statement in python ,it will return an error. To avoid this, we use pass statement. pass is a special statement in Python that does nothing. It only works as a dummy statement.\n",
    "Ones: This function returns a new array of given shape and data type, where the element’s value is 1.\n",
    "Zeros: This function returns a new array of given shape and data type, where the element’s value is 0.\n"
   ]
  },
  {
   "cell_type": "raw",
   "id": "0d085daa-3a84-4879-96c4-9a470d9e9df1",
   "metadata": {},
   "source": [
    "Q5. In the fromfunction function, which is used to construct new arrays, what is the role of the callable argument ?"
   ]
  },
  {
   "cell_type": "markdown",
   "id": "11b420e2-1917-4386-9617-d2d4c1091d7f",
   "metadata": {},
   "source": [
    "Ans: Its function is to execute the function over each coordinate and the resulting array. The function is called with N parameters, where N is the rank of shape. Each parameter represents the coordinates of the array varying along a specific axis."
   ]
  },
  {
   "cell_type": "raw",
   "id": "00b49ab2-7d34-4567-be9b-a7e4ec4893f7",
   "metadata": {},
   "source": [
    "Q6. What happens when a numpy array is combined with a single-value operand (a scalar, such as an int or a floating-point value) through addition, as in the expression A + n ?\n"
   ]
  },
  {
   "cell_type": "markdown",
   "id": "6a58b486-5396-474a-b83c-34d74fc4c41b",
   "metadata": {},
   "source": [
    "Ans: If any scaler value such as integer is added to the numpy array then all the elements inside the array will add that value in it.\n"
   ]
  },
  {
   "cell_type": "raw",
   "id": "815abf67-9691-4159-8ea0-2966f6071741",
   "metadata": {},
   "source": [
    "Q7. Can array-to-scalar operations use combined operation-assign operators (such as += or *=)? What is the outcome ?\n"
   ]
  },
  {
   "cell_type": "markdown",
   "id": "b5e7faef-f2bb-4fa2-a7d4-d77c9728c3d0",
   "metadata": {},
   "source": [
    "Ans: It will carry out provided operation on all elements of array.\n"
   ]
  },
  {
   "cell_type": "raw",
   "id": "2541a3ed-e3c3-4a66-b7bd-fb62a7837603",
   "metadata": {},
   "source": [
    "Q8. Does a numpy array contain fixed-length strings? What happens if you allocate a longer string to one of these arrays ?\n"
   ]
  },
  {
   "cell_type": "markdown",
   "id": "958c606c-b970-4b50-865b-038b721854b9",
   "metadata": {},
   "source": [
    "Ans: : Yes, it is possible that we can include a string of fixed length in numpy array. The dtype of any numpy array containing string values is the maximum length of any string present in the array.Once set, it will only be able to store new string having length not more than the maximum length at the time of the creation. If we try to reassign some another string value having length greater than the maximum length of the existing elements, it simply discards all the values beyond the maximum length accept upto those values which are under the limit.\n"
   ]
  },
  {
   "cell_type": "raw",
   "id": "8acd5bcf-f140-44e8-a976-9590ff3f985a",
   "metadata": {},
   "source": [
    "Q9. What happens when you combine two numpy arrays using an operation like addition (+) or multiplication (*)? What are the conditions for combining two numpy arrays ?\n"
   ]
  },
  {
   "cell_type": "markdown",
   "id": "5d645145-6f63-42c6-98e8-36570a87030b",
   "metadata": {},
   "source": [
    "Ans: It will simply add or multiply element to element at same position.\n"
   ]
  },
  {
   "cell_type": "raw",
   "id": "1782c5a3-08e2-49b4-a4b6-381e40f04009",
   "metadata": {},
   "source": [
    "Q10. What is the best way to use a Boolean array to mask another array ?\n"
   ]
  },
  {
   "cell_type": "markdown",
   "id": "dad10dfd-fb75-43e5-a87d-587db1da3d44",
   "metadata": {},
   "source": [
    "Ans: The best way to use a Boolean array to mask another array is by Using masked_where of numpy package\n"
   ]
  },
  {
   "cell_type": "raw",
   "id": "f054fc4f-6a9c-48af-a528-fbe0fcab0a85",
   "metadata": {},
   "source": [
    "Q11. What are three different ways to get the standard deviation of a wide collection of data using both standard Python and its packages? Sort the three of them by how quickly they execute ?\n"
   ]
  },
  {
   "cell_type": "markdown",
   "id": "31d42b73-f2ee-479f-bbeb-a907845b7287",
   "metadata": {},
   "source": [
    "Ans: np.std and math package can be used individually.\n"
   ]
  },
  {
   "cell_type": "raw",
   "id": "41344979-9208-4258-ba5d-2dfa0b9a7145",
   "metadata": {},
   "source": [
    "12. What is the dimensionality of a Boolean mask-generated array ?\n"
   ]
  },
  {
   "cell_type": "markdown",
   "id": "edf21129-9c49-43e2-9574-cc5cf2ea8d52",
   "metadata": {},
   "source": [
    "Ans: It will have same dimensionality as input array."
   ]
  },
  {
   "cell_type": "code",
   "execution_count": null,
   "id": "d5993d20-46f7-4c24-9e9e-68d2bbe593d9",
   "metadata": {},
   "outputs": [],
   "source": []
  }
 ],
 "metadata": {
  "kernelspec": {
   "display_name": "Python 3 (ipykernel)",
   "language": "python",
   "name": "python3"
  },
  "language_info": {
   "codemirror_mode": {
    "name": "ipython",
    "version": 3
   },
   "file_extension": ".py",
   "mimetype": "text/x-python",
   "name": "python",
   "nbconvert_exporter": "python",
   "pygments_lexer": "ipython3",
   "version": "3.10.6"
  }
 },
 "nbformat": 4,
 "nbformat_minor": 5
}
