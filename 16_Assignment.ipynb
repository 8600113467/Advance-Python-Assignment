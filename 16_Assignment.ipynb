{
 "cells": [
  {
   "cell_type": "markdown",
   "id": "249293ad-5c47-4710-8e22-09bd78a15e21",
   "metadata": {},
   "source": [
    "## Advance Python Assignment No.16"
   ]
  },
  {
   "cell_type": "raw",
   "id": "231af6b7-4069-4b3f-92e5-5460630ec23b",
   "metadata": {},
   "source": [
    "Q1. What is the benefit of regular expressions?\n",
    "Q2. Describe the difference between the effects of \"(ab)c+\" and \"a(bc)+.\" Which of these, if any, is the unqualified pattern \"abc+\"?\n",
    "Q3. How much do you need to use the following sentence while using regular expressions?\n",
    "mport re\n",
    "Q4. Which characters have special significance in square brackets when expressing a range, and under what circumstances?\n",
    "Q5. How does compiling a regular-expression object benefit you?\n",
    "Q6. What are some examples of how to use the match object returned by re.match and re.search?\n",
    "Q7. What is the difference between using a vertical bar (|) as an alteration and using square brackets as a character set?\n",
    "Q8. In regular-expression search patterns, why is it necessary to use the raw-string indicator (r)? In   replacement strings?\n",
    "\n"
   ]
  },
  {
   "cell_type": "code",
   "execution_count": null,
   "id": "133e23cc-1781-4489-8028-5ac598a3bfd8",
   "metadata": {},
   "outputs": [],
   "source": [
    "Q1. What is the benefit of regular expressions?\n"
   ]
  },
  {
   "cell_type": "markdown",
   "id": "b688956a-81a3-4d61-bb68-46897475699b",
   "metadata": {},
   "source": [
    "Ans: Regular Expressions, also known as regex or regexp, are used to match strings of text such as particular characters, words, or \n",
    "patterns of characters. It means that we can match and extract any string pattern from the text with the help of regular expressions. \n",
    "it helps the programmers to Write less and cleaner code. it also avoids multiple use of if/else statements."
   ]
  },
  {
   "cell_type": "raw",
   "id": "dca1060e-0c52-4e34-bf36-8a34164e3860",
   "metadata": {},
   "source": [
    "Q2. Describe the difference between the effects of \"(ab)c+\" and \"a(bc)+\" Which of these, if any, is the unqualified pattern \"abc+\"?\n"
   ]
  },
  {
   "cell_type": "markdown",
   "id": "730a929e-0f0d-4b1c-ad0e-1c38f557d21e",
   "metadata": {},
   "source": [
    "Ans: Both (ab)c+ and a(bc)+ are valid patterns. the difference between both these patterns is in (ab)c+ ab is group whereas in a(bc)+ bc\n",
    "is a group."
   ]
  },
  {
   "cell_type": "raw",
   "id": "2b15b15e-437f-4f40-82e5-a9f93b5efbaa",
   "metadata": {},
   "source": [
    "Q3. How much do you need to use the following sentence while using regular expressions?\n",
    "import re"
   ]
  },
  {
   "cell_type": "markdown",
   "id": "87ccbc19-8d0f-418c-9352-5f78bd07b3e7",
   "metadata": {},
   "source": [
    "Ans: import re statement always has to be imported before using regular expressions."
   ]
  },
  {
   "cell_type": "raw",
   "id": "050ed61a-06d8-4d16-a815-118c4aaa2c9a",
   "metadata": {},
   "source": [
    "Q4. Which characters have special significance in square brackets when expressing a range, and under what circumstances?"
   ]
  },
  {
   "cell_type": "markdown",
   "id": "4bc35a49-7041-439f-ab37-2b158d65df1b",
   "metadata": {},
   "source": [
    "Ans: The Characters .,*,?,^,or,(), have a special signiface when used with square brackets. They need not be be explicitly escaped by \\ as in case of pattern texts in a raw string."
   ]
  },
  {
   "cell_type": "raw",
   "id": "c09b8807-661d-498b-9819-4beb61d3e7ce",
   "metadata": {},
   "source": [
    "Q5. How does compiling a regular-expression object benefit you?"
   ]
  },
  {
   "cell_type": "markdown",
   "id": "a0eb63ac-e3f9-49b0-a9bc-444809eb77f9",
   "metadata": {},
   "source": [
    "Ans: We can Combine a regular expression pattern into pattern Objects.Which can be used for pattern matching. it also helps to search a pattern again without rewritting it."
   ]
  },
  {
   "cell_type": "raw",
   "id": "2383440d-b591-43f8-888b-a72a3f497974",
   "metadata": {},
   "source": [
    "Q6. What are some examples of how to use the match object returned by re.match and re.search?"
   ]
  },
  {
   "cell_type": "markdown",
   "id": "7fc487cc-c70c-4d40-8332-c4ea81a36694",
   "metadata": {},
   "source": [
    "Ans: The re.search() and re.match() both are functions of re module in python. These functions are very efficient and fast for searching in strings. The function searches for some substring in a string and returns a match object if found, else it returns none.\n",
    "\n",
    "There is a difference between the use of both functions. Both return the first match of a substring found in the string, but re.match() searches only from the beginning of the string and return match object if found. But if a match of substring is found somewhere in the middle of the string, it returns none.\n",
    "\n",
    "While re.search() searches for the whole string even if the string contains multi-lines and tries to find a match of the substring in all the lines of string\n",
    "\n"
   ]
  },
  {
   "cell_type": "code",
   "execution_count": 2,
   "id": "0a3cc180-0ed8-4346-b83f-9828d79b87d9",
   "metadata": {},
   "outputs": [
    {
     "name": "stdout",
     "output_type": "stream",
     "text": [
      "<re.Match object; span=(66, 72), match='string'>\n",
      "None\n",
      "<re.Match object; span=(0, 6), match='string'>\n",
      "<re.Match object; span=(0, 6), match='string'>\n"
     ]
    }
   ],
   "source": [
    "import re\n",
    "Substring ='string' \n",
    "String1 ='We are learning regex with geeksforgeeks regex is very useful for string matching. It is fast too.' \n",
    "String2 ='string We are learning regex with geeksforgeeks regex is very useful for string matching. It is fast too.'\n",
    "print(re.search(Substring, String1, re.IGNORECASE))\n",
    "print(re.match(Substring, String1, re.IGNORECASE))\n",
    "print(re.search(Substring, String2, re.IGNORECASE))\n",
    "print(re.match(Substring, String2, re.IGNORECASE))"
   ]
  },
  {
   "cell_type": "raw",
   "id": "8af48d94-9176-4603-9086-0b991db5bcf5",
   "metadata": {},
   "source": [
    "Q7. What is the difference between using a vertical bar (|) as an alteration and using square brackets as a character set?"
   ]
  },
  {
   "cell_type": "markdown",
   "id": "80f7168d-28c4-44d3-81a1-0dd7240ac685",
   "metadata": {},
   "source": [
    "Ans: When | us used then patterns searches for or option. i.e <pattern_1>|<pattern_2> means it searches as <pattern_1>or<<pattern_2> in \n",
    "the searched string. the first occurance of matched string will be returned as the Match Object. Using Character set in square Brackets\n",
    "searches for all the character set in the square bracket and if match is found, it returns it."
   ]
  },
  {
   "cell_type": "raw",
   "id": "8e5140f7-5da7-4021-8842-829282ca404a",
   "metadata": {},
   "source": [
    "Q8. In regular-expression search patterns, why is it necessary to use the raw-string indicator (r)? In replacement strings?"
   ]
  },
  {
   "cell_type": "markdown",
   "id": "b974cc7e-0b91-4e8d-b556-2a513f759e03",
   "metadata": {},
   "source": [
    "Ans: Raw Strings are used in the regular-expression search patterns, so that blackslashes donot have to be escaped."
   ]
  },
  {
   "cell_type": "code",
   "execution_count": null,
   "id": "1d001ba4-c67c-4848-b57c-6431fff403f7",
   "metadata": {},
   "outputs": [],
   "source": []
  },
  {
   "cell_type": "code",
   "execution_count": null,
   "id": "96dc694f-9107-46dc-958a-f24ec396fce3",
   "metadata": {},
   "outputs": [],
   "source": []
  },
  {
   "cell_type": "code",
   "execution_count": null,
   "id": "07276919-ddeb-47d0-b626-f0fc4b318b1e",
   "metadata": {},
   "outputs": [],
   "source": []
  },
  {
   "cell_type": "code",
   "execution_count": null,
   "id": "68a309a4-a3cc-47cb-bf7a-814800aaa6ea",
   "metadata": {},
   "outputs": [],
   "source": []
  }
 ],
 "metadata": {
  "kernelspec": {
   "display_name": "Python 3 (ipykernel)",
   "language": "python",
   "name": "python3"
  },
  "language_info": {
   "codemirror_mode": {
    "name": "ipython",
    "version": 3
   },
   "file_extension": ".py",
   "mimetype": "text/x-python",
   "name": "python",
   "nbconvert_exporter": "python",
   "pygments_lexer": "ipython3",
   "version": "3.10.6"
  }
 },
 "nbformat": 4,
 "nbformat_minor": 5
}
