{
 "cells": [
  {
   "cell_type": "markdown",
   "id": "93e1c111-a669-4b8f-b4c2-69fa03430fc8",
   "metadata": {},
   "source": [
    "## Advance Python Assignment no.4"
   ]
  },
  {
   "cell_type": "raw",
   "id": "5955336b-729a-41eb-83f8-ff18a5f9e0e9",
   "metadata": {},
   "source": [
    "Q1. Which two operator overloading methods can you use in your classes to support iteration?\n",
    "Q2. In what contexts do the two operator overloading methods manage printing?\n",
    "Q3. In a class, how do you intercept slice operations?\n",
    "Q4. In a class, how do you capture in-place addition?\n",
    "Q5. When is it appropriate to use operator overloading?\n"
   ]
  },
  {
   "cell_type": "markdown",
   "id": "1d5e1af8-3cb5-4ee4-af69-1101440b048b",
   "metadata": {},
   "source": [
    "Q1. Which two operator overloading methods can you use in your classes to support iteration?\n",
    "\n",
    "**ANS:** In Python, you can use two operator overloading methods to support iteration in your classes:\n",
    "    \n",
    "__iter__(): This method is used to define how an object should behave when used in a for loop. It should return an \n",
    "iterator object, which typically contains a __next__() method to define how to retrieve the next value in the iteration.\n",
    "\n",
    "__next__(): This method is used in conjunction with __iter__(). It defines how to retrieve the next item in the iteration\n",
    "sequence. It should raise StopIteration when there are no more items to iterate"
   ]
  },
  {
   "cell_type": "markdown",
   "id": "1142b066-2f49-432e-8d65-f40e6bdbbb5a",
   "metadata": {},
   "source": [
    "Q2. In what contexts do the two operator overloading methods manage printing?\n",
    "\n",
    "**ANS:** The two operator overloading methods mentioned in question 1, __iter__() and __next__(), are primarily used to manage printing in the context of custom iteration. These methods allow you to define how your custom objects behave when used in a for loop or when calling built-in functions like iter() and next() on them. You can use these methods to control what gets printed or processed during iteration."
   ]
  },
  {
   "cell_type": "markdown",
   "id": "d83251ab-02f7-491c-bd4f-337392cd98fe",
   "metadata": {},
   "source": [
    "Q3. In a class, how do you intercept slice operations?\n",
    "\n",
    " **ANS:** To intercept slice operations in a class, you can use the __getitem__() method. The __getitem__() method allows you to specify how your object behaves when indexed or sliced using square brackets. You can implement this method to return a specific portion of your object based on the slice indices provided.\n",
    "\n",
    "Here's an example of how you can implement __getitem__() to support slicing:"
   ]
  },
  {
   "cell_type": "code",
   "execution_count": 2,
   "id": "0e164abe-1cbd-4b39-ad2a-78ab59ce3d9a",
   "metadata": {},
   "outputs": [
    {
     "data": {
      "text/plain": [
       "[2, 3, 4]"
      ]
     },
     "execution_count": 2,
     "metadata": {},
     "output_type": "execute_result"
    }
   ],
   "source": [
    "class MyList:\n",
    "    def __init__(self, data):\n",
    "        self.data = data\n",
    "\n",
    "    def __getitem__(self, index):\n",
    "        if isinstance(index, slice):\n",
    "            # Handle slicing\n",
    "            return self.data[index]\n",
    "        else:\n",
    "            # Handle single item indexing\n",
    "            return self.data[index]\n",
    "\n",
    "my_list = MyList([1, 2, 3, 4, 5])\n",
    "sliced_data = my_list[1:4]  # This will call __getitem__() with a slice object\n",
    "\n",
    "sliced_data"
   ]
  },
  {
   "cell_type": "markdown",
   "id": "6597252b-23c4-47bc-b910-b18ccaa82d92",
   "metadata": {},
   "source": [
    "Q4. In a class, how do you capture in-place addition?\n",
    "\n",
    "**ANS:** To capture in-place addition in a class, you can use the __iadd__() method. The __iadd__() method allows you to specify how your object should behave when the += operator is used with instances of your class. You can modify the internal state of your object to reflect the addition.\n",
    "\n",
    "Here's an example of how you can implement __iadd__():\n"
   ]
  },
  {
   "cell_type": "code",
   "execution_count": 5,
   "id": "b35f66dc-15ec-48fe-ae2f-9bbd33407f78",
   "metadata": {},
   "outputs": [
    {
     "data": {
      "text/plain": [
       "8"
      ]
     },
     "execution_count": 5,
     "metadata": {},
     "output_type": "execute_result"
    }
   ],
   "source": [
    "class MyNumber:\n",
    "    def __init__(self, value):\n",
    "        self.value = value\n",
    "\n",
    "    def __iadd__(self, other):\n",
    "        if isinstance(other, MyNumber):\n",
    "            self.value += other.value\n",
    "        else:\n",
    "            self.value += other\n",
    "        return self\n",
    "\n",
    "num1 = MyNumber(5)\n",
    "num2 = MyNumber(3)\n",
    "num1 += num2 \n",
    "\n",
    "num1.value"
   ]
  },
  {
   "cell_type": "markdown",
   "id": "0df269ed-34e1-44bb-ade1-e1e558b500d3",
   "metadata": {},
   "source": [
    "Q5. When is it appropriate to use operator overloading?\n",
    "\n",
    "**ANS:** Operator overloading is appropriate when you want to define custom behavior for operators when they are used with instances of your classes. It is commonly used in object-oriented programming to make custom objects behave like built-in types or to provide more intuitive or meaningful operations for your objects. Some common use cases for operator overloading include:\n",
    "\n",
    "Creating custom numerical types (e.g., complex numbers, vectors, matrices) and defining arithmetic operations like addition, subtraction, multiplication, and division for these types.\n",
    "\n",
    "Implementing custom container types (e.g., lists, sets, dictionaries) and defining operations like indexing, slicing, membership testing, and iteration.\n",
    "\n",
    "Overloading comparison operators (e.g., ==, !=, <, <=, >, >=) to define custom equality or ordering behavior for objects.\n",
    "\n",
    "Customizing string representation using __str__() and __repr__() methods to make objects more human-readable or debug-friendly.\n",
    "\n",
    "Operator overloading allows you to create more intuitive and expressive code when working with custom classes, making your code easier to read and maintain."
   ]
  },
  {
   "cell_type": "code",
   "execution_count": null,
   "id": "2db3d337-8f71-4b6c-baf3-6fe5ff781a95",
   "metadata": {},
   "outputs": [],
   "source": []
  }
 ],
 "metadata": {
  "kernelspec": {
   "display_name": "Python 3 (ipykernel)",
   "language": "python",
   "name": "python3"
  },
  "language_info": {
   "codemirror_mode": {
    "name": "ipython",
    "version": 3
   },
   "file_extension": ".py",
   "mimetype": "text/x-python",
   "name": "python",
   "nbconvert_exporter": "python",
   "pygments_lexer": "ipython3",
   "version": "3.10.6"
  }
 },
 "nbformat": 4,
 "nbformat_minor": 5
}
