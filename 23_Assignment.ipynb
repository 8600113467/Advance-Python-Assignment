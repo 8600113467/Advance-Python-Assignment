{
 "cells": [
  {
   "cell_type": "markdown",
   "id": "ecb3cc6f-2d7c-4867-8b47-aab7f6c56d94",
   "metadata": {},
   "source": [
    "## Advance Python Assignment No.23"
   ]
  },
  {
   "cell_type": "markdown",
   "id": "dbf77191-1fcb-407a-9495-34b084acdd3d",
   "metadata": {},
   "source": [
    "Q1. If you have any, what are your choices for increasing the comparison between different figures on the same graph?\n",
    "Q2. Can you explain the benefit of compound interest over a higher rate of interest that does not compound after reading this chapter?\n",
    "Q3. What is a histogram, exactly? Name a numpy method for creating such a graph.\n",
    "Q4. If necessary, how do you change the aspect ratios between the X and Y axes?\n",
    "Q5. Compare and contrast the three types of array multiplication between two numpy arrays: dot product, outer product, and regular multiplication of two numpy arrays.\n",
    "Q6. Before you buy a home, which numpy function will you use to measure your monthly mortgage payment?\n",
    "Q7. Can string data be stored in numpy arrays? If so, list at least one restriction that applies to this data."
   ]
  },
  {
   "cell_type": "markdown",
   "id": "fcbe66c5-5afb-47c5-9f78-9187fe4453ca",
   "metadata": {},
   "source": [
    "Q1. If you have any, what are your choices for increasing the comparison between different figures on the same graph?\n"
   ]
  },
  {
   "cell_type": "markdown",
   "id": "46770eca-0000-44e0-b10a-a66d41d871d0",
   "metadata": {},
   "source": [
    "Ans: Matplotlib provides a convenient method called subplots for increasing the comparison between different figures on the same graph. Subplots mean a group of smaller axes (where each axis is a plot) that can exist together within a single figure.\n"
   ]
  },
  {
   "cell_type": "markdown",
   "id": "7ba5ea2b-5959-4a78-9950-0a8be44680bf",
   "metadata": {},
   "source": [
    "Q2. Can you explain the benefit of compound interest over a higher rate of interest that does not compound after reading this chapter?\n"
   ]
  },
  {
   "cell_type": "markdown",
   "id": "0b1fb49e-be23-412e-a4c9-ded2846944c5",
   "metadata": {},
   "source": [
    "Ans: Compound interest makes a sum of money grow at a faster rate than simple interest,because in addition to earning returns on the money you invest, you also earn returns on those returns at the end of every compounding period, which could be daily, monthly, quarterly or annually.\n"
   ]
  },
  {
   "cell_type": "markdown",
   "id": "8efa3657-630b-4d2e-b70e-29f93139ee60",
   "metadata": {},
   "source": [
    "Q3. What is a histogram, exactly? Name a numpy method for creating such a graph ?\n"
   ]
  },
  {
   "cell_type": "markdown",
   "id": "1e71055d-aacd-4d23-9c2f-2b07969d07ab",
   "metadata": {},
   "source": [
    "Ans: Histogram shows total values of X wrt Y. Which means at any particular position of X, Y value shows the total number of counts or data below that value of X. numpy.histogram() is the built in function used for showing historam\n"
   ]
  },
  {
   "cell_type": "markdown",
   "id": "92ce7545-977d-463c-aa35-d75a86c69d90",
   "metadata": {},
   "source": [
    "Q4. If necessary, how do you change the aspect ratios between the X and Y axes ?\n"
   ]
  },
  {
   "cell_type": "markdown",
   "id": "b882d205-7fd3-432f-b358-546974e88d9a",
   "metadata": {},
   "source": [
    "Ans: We can use figure(figsize=(10,8)) function inside the matplot.pyplot library which we scale down or up the graph.\n"
   ]
  },
  {
   "cell_type": "markdown",
   "id": "7ef63815-6031-488f-a2ed-6e290f41b7bd",
   "metadata": {},
   "source": [
    "Q5. Compare and contrast the three types of array multiplication between two numpy arrays: dot product, outer product, and regular multiplication of two numpy arrays ?\n"
   ]
  },
  {
   "cell_type": "markdown",
   "id": "b234e5b0-f62e-463f-9366-37779317786d",
   "metadata": {},
   "source": [
    "Ans: : In regular multiplication values of same index get multiplied.\n",
    "\n",
    "In dot product there is row wise multiplication, row of one array with column of second array and so on.\n",
    "In outer multiplication every element of first array a1 will be multiply by every element of other array a2 such such the number of columns will be equal to the number of element in another array a2.\n"
   ]
  },
  {
   "cell_type": "markdown",
   "id": "3f826cdf-f737-4723-b172-a15eb1cbdde3",
   "metadata": {},
   "source": [
    "Q6. Before you buy a home, which numpy function will you use to measure your monthly mortgage payment ?\n"
   ]
  },
  {
   "cell_type": "markdown",
   "id": "34d3cb4b-2fa1-4063-9213-077bb44505ae",
   "metadata": {},
   "source": [
    "Ans: np.pmt(rate, nper, pv) function we will be using in order to calculate monthly mortgage payment before you purchase a house.\n",
    "\n",
    "rate = The periodic interest rate\n",
    "nper = The number of payment periods\n",
    "pv = The total value of the mortgage loan"
   ]
  },
  {
   "cell_type": "markdown",
   "id": "363a456a-4aea-4af6-ae52-61a5080b6d4e",
   "metadata": {},
   "source": [
    "Q7. Can string data be stored in numpy arrays? If so, list at least one restriction that applies to this data ?\n"
   ]
  },
  {
   "cell_type": "markdown",
   "id": "768a00d3-860e-4e97-82cc-93e7e0a49e2e",
   "metadata": {},
   "source": [
    "Ans: Yes, an array can store the string. The limitation which imposed on the string data is, whenever we store the data of string dtype then it should should keep in mind that the string which is having the maximum length is the limit."
   ]
  }
 ],
 "metadata": {
  "kernelspec": {
   "display_name": "Python 3 (ipykernel)",
   "language": "python",
   "name": "python3"
  },
  "language_info": {
   "codemirror_mode": {
    "name": "ipython",
    "version": 3
   },
   "file_extension": ".py",
   "mimetype": "text/x-python",
   "name": "python",
   "nbconvert_exporter": "python",
   "pygments_lexer": "ipython3",
   "version": "3.10.6"
  }
 },
 "nbformat": 4,
 "nbformat_minor": 5
}
