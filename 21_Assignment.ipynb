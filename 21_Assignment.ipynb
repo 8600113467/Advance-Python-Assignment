{
 "cells": [
  {
   "cell_type": "markdown",
   "id": "308f5b6a-c4ae-4d8e-ad39-99f83e0a768c",
   "metadata": {},
   "source": [
    "## Advance Python Assignment No.21"
   ]
  },
  {
   "cell_type": "markdown",
   "id": "9d951a80-c04d-4106-be23-b17e01cddf94",
   "metadata": {},
   "source": [
    "Q1. What is a probability distribution, exactly? If the values are meant to be random, how can you predict them at all?\n",
    "Q2. Is there a distinction between true random numbers and pseudo-random numbers, if there is one? Why are the latter considered “good enough”?\n",
    "Q3. What are the two main factors that influence the behaviour of a \"normal\" probability distribution?\n",
    "Q4. Provide a real-life example of a normal distribution.\n",
    "Q5. In the short term, how can you expect a probability distribution to behave? What do you think will happen as the number of trials grows?\n",
    "Q6. What kind of object can be shuffled by using random.shuffle?\n",
    "Q7. Describe the math package's general categories of functions.\n",
    "Q8. What is the relationship between exponentiation and logarithms?\n",
    "Q9. What are the three logarithmic functions that Python supports?"
   ]
  },
  {
   "cell_type": "markdown",
   "id": "bd0486d5-a925-4fdb-a63a-6fe32c5762a3",
   "metadata": {},
   "source": [
    "Q1. What is a probability distribution, exactly? If the values are meant to be random, how can you predict them at all ?\n"
   ]
  },
  {
   "cell_type": "markdown",
   "id": "c7ae61b1-057b-4707-9e64-ae7e44ad6b19",
   "metadata": {},
   "source": [
    "Ans: A probability distribution describes how a random variable is distributed.\n",
    "It tells us which values a random variable is most likely to take on and which values are less likely. Based on the previous data and the occurences of the random event, we can predict the outcome in terms of probabilities.\n"
   ]
  },
  {
   "cell_type": "markdown",
   "id": "5084c24e-34b4-47f1-aa51-13f15188b5a4",
   "metadata": {},
   "source": [
    "Q2. Is there a distinction between true random numbers and pseudo-random numbers, if there is one? Why are the latter considered “good enough”?\n"
   ]
  },
  {
   "cell_type": "markdown",
   "id": "7de526a3-edb0-474b-8406-5c31c8853fae",
   "metadata": {},
   "source": [
    "Ans: : True Random Numbers are true physical values while pseudo-random numbers are generated internally by a program . Latter is considered good enough as they have sort of uniform distribution.\n"
   ]
  },
  {
   "cell_type": "markdown",
   "id": "5775c7ec-0752-45c4-a031-41e5c5fdd6d5",
   "metadata": {},
   "source": [
    "Q3. What are the two main factors that influence the behaviour of a \"normal\" probability distribution ?\n"
   ]
  },
  {
   "cell_type": "markdown",
   "id": "cf561e9e-fd1a-4070-8b52-f35b05eed2e6",
   "metadata": {},
   "source": [
    "Ans: Normal Probability Distribution are influenced by two factors mean and the variance.\n"
   ]
  },
  {
   "cell_type": "markdown",
   "id": "e6a9f0cd-5f28-4be8-a493-ea2f9e029ceb",
   "metadata": {},
   "source": [
    "Q4. Provide a real-life example of a normal distribution ?\n"
   ]
  },
  {
   "cell_type": "markdown",
   "id": "094749f3-b6e6-465d-83be-f4d141fd4566",
   "metadata": {},
   "source": [
    "Ans: A Real-life example of a normal distribution are heights or blood pressure measurements\n"
   ]
  },
  {
   "cell_type": "markdown",
   "id": "ab72030b-eec5-43e1-90c6-5c172fa5237c",
   "metadata": {},
   "source": [
    "Q5. In the short term, how can you expect a probability distribution to behave? What do you think will happen as the number of trials grows ?\n"
   ]
  },
  {
   "cell_type": "markdown",
   "id": "0f6315a2-5866-492b-ab7c-cb38fe0cd567",
   "metadata": {},
   "source": [
    "Ans: Variance will decrease with number of trials\n"
   ]
  },
  {
   "cell_type": "markdown",
   "id": "3e9d057c-6775-4383-a26e-9d8fa8291a58",
   "metadata": {},
   "source": [
    "Q6. What kind of object can be shuffled by using random.shuffle ?\n"
   ]
  },
  {
   "cell_type": "markdown",
   "id": "87cc3c5a-b385-4781-b1f6-c354c1bc083e",
   "metadata": {},
   "source": [
    "Ans: lists (list), strings (str) and tuples (tuple) objects can be shuffled by using random.shuffle.\n"
   ]
  },
  {
   "cell_type": "markdown",
   "id": "9bc04a01-4a81-400c-bec6-6ba9ddf79e94",
   "metadata": {},
   "source": [
    "Q7. Describe the math package's general categories of functions ?\n"
   ]
  },
  {
   "cell_type": "markdown",
   "id": "28411637-fbdf-4975-9fcc-6010ab889b3c",
   "metadata": {},
   "source": [
    "Ans: The Math package's general categories of functions are:\n",
    "\n",
    "Trigonometric functions\n",
    "Quadratic functions\n",
    "Exponential functions\n",
    "Hyperbolic functions\n",
    "Periodic functions\n",
    "Arithmetic functions\n",
    "Logarithimic functions\n",
    "Conversions to Integer"
   ]
  },
  {
   "cell_type": "markdown",
   "id": "74312bf6-7b59-4874-ba65-cf3718a60c48",
   "metadata": {},
   "source": [
    "Q8. What is the relationship between exponentiation and logarithms ?\n"
   ]
  },
  {
   "cell_type": "markdown",
   "id": "795430cc-4f60-448a-a044-3c2315824c31",
   "metadata": {},
   "source": [
    "Ans: \n",
    "Logarithmic functions are the inverses of exponential functions. The inverse of the exponential function y = ax is x = ay. The logarithmic function y = logax is defined to be equivalent to the exponential equation x = ay.\n"
   ]
  },
  {
   "cell_type": "markdown",
   "id": "42388a20-8518-4c42-bb69-db19885defa4",
   "metadata": {},
   "source": [
    "Q9. What are the three logarithmic functions that Python supports ?\n"
   ]
  },
  {
   "cell_type": "markdown",
   "id": "01bb4cde-5c43-4eeb-ba81-ce582fff0322",
   "metadata": {},
   "source": [
    "Ans: The Three Logarithmic Functions that Python supports are:\n",
    "\n",
    "log2(x) - logarithmic value of x to base 2\n",
    "\n",
    "log10(x) - logarithmic value of x to base 10\n",
    "\n",
    "log1p(a) - This function is used to compute logarithm(1+a) "
   ]
  },
  {
   "cell_type": "code",
   "execution_count": null,
   "id": "15194317-bdbc-4611-a9b9-4944f99fa6b6",
   "metadata": {},
   "outputs": [],
   "source": []
  }
 ],
 "metadata": {
  "kernelspec": {
   "display_name": "Python 3 (ipykernel)",
   "language": "python",
   "name": "python3"
  },
  "language_info": {
   "codemirror_mode": {
    "name": "ipython",
    "version": 3
   },
   "file_extension": ".py",
   "mimetype": "text/x-python",
   "name": "python",
   "nbconvert_exporter": "python",
   "pygments_lexer": "ipython3",
   "version": "3.10.6"
  }
 },
 "nbformat": 4,
 "nbformat_minor": 5
}
