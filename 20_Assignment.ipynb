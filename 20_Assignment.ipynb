{
 "cells": [
  {
   "cell_type": "markdown",
   "id": "adb0d4c6-dadc-428c-857d-85c032a48861",
   "metadata": {},
   "source": [
    "## Advance Python Assignment No.20"
   ]
  },
  {
   "cell_type": "raw",
   "id": "72701379-9a6a-432f-ba50-e6097c202584",
   "metadata": {
    "tags": []
   },
   "source": [
    "1. Compare and contrast the float and Decimal classes' benefits and drawbacks.\n",
    "2. Decimal('1.200') and Decimal('1.2') are two objects to consider. In what sense are these the same object? Are these just two ways of representing the exact same value, or do they correspond to different internal states?\n",
    "3. What happens if the equality of Decimal('1.200') and Decimal('1.2') is checked?\n",
    "4. Why is it preferable to start a Decimal object with a string rather than a floating-point value?\n",
    "5. In an arithmetic phrase, how simple is it to combine Decimal objects with integers?\n",
    "6. Can Decimal objects and floating-point values be combined easily?\n",
    "7. Using the Fraction class but not the Decimal class, give an example of a quantity that can be expressed with absolute precision.\n",
    "8. Describe a quantity that can be accurately expressed by the Decimal or Fraction classes but not by a floating-point value.\n",
    "Q9.Consider the following two fraction objects: Fraction(1, 2) and Fraction(1, 2). (5, 10). Is the internal state of these two objects the same? Why do you think that is?\n",
    "Q10. How do the Fraction class and the integer type (int) relate to each other? Containment or inheritance?\n"
   ]
  },
  {
   "cell_type": "raw",
   "id": "380dc673-c0a6-4552-9501-062089f2eed6",
   "metadata": {},
   "source": [
    "1. Compare and contrast the float and Decimal classes' benefits and drawbacks ?\n"
   ]
  },
  {
   "cell_type": "markdown",
   "id": "713512cc-64bf-4da1-83d3-dbf5380a6518",
   "metadata": {
    "tags": []
   },
   "source": [
    "Ans: Both the float and decimal types store numerical values in Python.\n",
    "\n",
    "Use floats when convenience and speed matter. A float gives you an approximation of the number you declare.\n",
    "\n",
    "Use decimals when precision matters. Decimals can suffer from their own precision issues, but generally, decimals are more precise than floats. The performance difference between float and decimal, with Python 3, is not outlandish, and in my experience, the precision benefits of a decimal outweigh the performance benefits of a float.\n"
   ]
  },
  {
   "cell_type": "raw",
   "id": "d1260f19-d7df-49be-afdc-33bcea350bd5",
   "metadata": {},
   "source": [
    "2. Decimal('1.200') and Decimal('1.2') are two objects to consider. In what sense are these the same object? Are these just two ways of representing the exact same value, or do they correspond to different internal states ?\n"
   ]
  },
  {
   "cell_type": "markdown",
   "id": "f42d22c6-67ad-4f47-b486-23f6639f9d0f",
   "metadata": {},
   "source": [
    "Ans: Both values are same but internal representation at storage Is different. Precsion differs, Decimal('1.200') gives internally 1.200 and Decimal('1.2') gives 1.2.\n"
   ]
  },
  {
   "cell_type": "raw",
   "id": "5acbffb4-3bec-4152-8f98-008de0150666",
   "metadata": {},
   "source": [
    "3. What happens if the equality of Decimal('1.200') and Decimal('1.2') is checked ?\n"
   ]
  },
  {
   "cell_type": "markdown",
   "id": "4977328d-f9e5-4500-a351-22cee47ce633",
   "metadata": {},
   "source": [
    "Ans: Both values are checked to be equal , they only differ in precision."
   ]
  },
  {
   "cell_type": "raw",
   "id": "6901655e-f7e2-4bfb-8529-1170b764c94f",
   "metadata": {},
   "source": [
    "4. Why is it preferable to start a Decimal object with a string rather than a floating-point value ?\n"
   ]
  },
  {
   "cell_type": "markdown",
   "id": "2a288c5d-006e-4819-b3c5-9429d544e7dd",
   "metadata": {},
   "source": [
    "Ans: Floating-point value is converted to Decimal format. Decimal can store float value with absolute precision. But when float value is given as Decimal object,it first has to be converted from floating point value which might already have rounding error.Hence it is preferable to start a Decimal object with a string.\n",
    "\n"
   ]
  },
  {
   "cell_type": "raw",
   "id": "7881061f-3950-4ad1-8d26-fedb9a229f33",
   "metadata": {},
   "source": [
    "5. In an arithmetic phrase, how simple is it to combine Decimal objects with integers ?\n"
   ]
  },
  {
   "cell_type": "markdown",
   "id": "33ebfc02-ae94-4590-b874-e8500e10ef42",
   "metadata": {},
   "source": [
    "Ans: We can do it with use of Decimal().\n"
   ]
  },
  {
   "cell_type": "raw",
   "id": "2c1c91ba-7a64-4205-b172-9f6d92b0593f",
   "metadata": {},
   "source": [
    "6. Can Decimal objects and floating-point values be combined easily ?\n"
   ]
  },
  {
   "cell_type": "markdown",
   "id": "788b6c4a-f9a0-4bc3-a1bb-109b54c603ca",
   "metadata": {},
   "source": [
    "Ans: Arithmetic operfations like Adding,subtracting or multiplying a Decimal object by a floating-point value is generates an error.\n",
    "To do these operations, the floating point has to be converted to a Decimal.\n",
    "\n"
   ]
  },
  {
   "cell_type": "raw",
   "id": "39f62e51-8583-40f1-9d1e-346543650ce9",
   "metadata": {},
   "source": [
    "7. Using the Fraction class but not the Decimal class, give an example of a quantity that can be expressed with absolute precision ?\n"
   ]
  },
  {
   "cell_type": "markdown",
   "id": "a7ce7864-486e-4b45-853e-0fe8eae79e56",
   "metadata": {},
   "source": [
    "Ans: Value of 0.5 will be represented as ½.\n"
   ]
  },
  {
   "cell_type": "raw",
   "id": "13323d6b-957b-48f8-8b74-32dd7492e25a",
   "metadata": {},
   "source": [
    "8.Consider the following two fraction objects: Fraction(1, 2) and Fraction(1, 2). (5, 10). Is the internal state of these two objects the same? Why do you think that is ?\n"
   ]
  },
  {
   "cell_type": "markdown",
   "id": "b0efa56f-b0b4-4624-b8b2-55e5167aaa76",
   "metadata": {},
   "source": [
    "Ans: Both will be reduced to 1/2\n"
   ]
  },
  {
   "cell_type": "raw",
   "id": "c03f95b7-66f8-4604-a2b0-0afb466e6158",
   "metadata": {},
   "source": [
    "9. How do the Fraction class and the integer type (int) relate to each other? Containment or inheritance ?\n"
   ]
  },
  {
   "cell_type": "markdown",
   "id": "6ac44146-20fd-46ea-8ba8-409eb30cdf85",
   "metadata": {},
   "source": [
    "Ans: Fraction class and integer type(int) are related in form of a container.It contains two ints, one the numerator and the other the denominator"
   ]
  },
  {
   "cell_type": "code",
   "execution_count": null,
   "id": "623c07f4-e696-4b6b-bc84-42c23ae83dac",
   "metadata": {},
   "outputs": [],
   "source": []
  }
 ],
 "metadata": {
  "kernelspec": {
   "display_name": "Python 3 (ipykernel)",
   "language": "python",
   "name": "python3"
  },
  "language_info": {
   "codemirror_mode": {
    "name": "ipython",
    "version": 3
   },
   "file_extension": ".py",
   "mimetype": "text/x-python",
   "name": "python",
   "nbconvert_exporter": "python",
   "pygments_lexer": "ipython3",
   "version": "3.10.6"
  }
 },
 "nbformat": 4,
 "nbformat_minor": 5
}
